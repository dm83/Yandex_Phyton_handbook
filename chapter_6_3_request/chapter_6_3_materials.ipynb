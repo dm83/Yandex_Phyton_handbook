{
 "cells": [
  {
   "cell_type": "code",
   "execution_count": 3,
   "id": "173546a6",
   "metadata": {},
   "outputs": [],
   "source": [
    "from requests import get"
   ]
  },
  {
   "cell_type": "code",
   "execution_count": 16,
   "id": "043b4ea8",
   "metadata": {},
   "outputs": [],
   "source": [
    "params = {\"ll\": \"37.677751,55.757718\",\n",
    "          \"spn\": \"0.016457,0.00619\",\n",
    "          \"l\": \"map\"}\n",
    "response = get(\"https://static-maps.yandex.ru/1.x/\", params=params)"
   ]
  },
  {
   "cell_type": "code",
   "execution_count": 17,
   "id": "ade4d666",
   "metadata": {},
   "outputs": [
    {
     "name": "stdout",
     "output_type": "stream",
     "text": [
      "<Response [200]>\n"
     ]
    }
   ],
   "source": [
    "print(response)"
   ]
  },
  {
   "cell_type": "code",
   "execution_count": 18,
   "id": "abaaec60",
   "metadata": {},
   "outputs": [],
   "source": [
    "with open('map.png', 'wb') as file:\n",
    "    file.write(response.content)"
   ]
  },
  {
   "cell_type": "code",
   "execution_count": 19,
   "id": "6b67fd46",
   "metadata": {},
   "outputs": [],
   "source": [
    "from requests import get, ConnectionError"
   ]
  },
  {
   "cell_type": "code",
   "execution_count": 23,
   "id": "1219a650",
   "metadata": {},
   "outputs": [],
   "source": [
    "params = {\"ll\": \"37.677751,55.757718\",\n",
    "          \"spn\": \"0.016457,0.00619\",\n",
    "          \"l\": \"map\"}\n",
    "\n",
    "try:\n",
    "    response = get('https://static-maps.yandex.ru/1.x/', params=params)\n",
    "except ConnectionError:\n",
    "    print('Проверьте подключение к сети.')\n",
    "else:\n",
    "    with open('map.png', 'wb') as file:\n",
    "        file.write(response.content)"
   ]
  },
  {
   "cell_type": "code",
   "execution_count": null,
   "id": "b856d1e9",
   "metadata": {},
   "outputs": [],
   "source": []
  }
 ],
 "metadata": {
  "kernelspec": {
   "display_name": "base",
   "language": "python",
   "name": "python3"
  },
  "language_info": {
   "codemirror_mode": {
    "name": "ipython",
    "version": 3
   },
   "file_extension": ".py",
   "mimetype": "text/x-python",
   "name": "python",
   "nbconvert_exporter": "python",
   "pygments_lexer": "ipython3",
   "version": "3.12.4"
  }
 },
 "nbformat": 4,
 "nbformat_minor": 5
}
