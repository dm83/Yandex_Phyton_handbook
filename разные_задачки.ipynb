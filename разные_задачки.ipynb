{
 "cells": [
  {
   "cell_type": "code",
   "execution_count": null,
   "id": "d19f153d",
   "metadata": {},
   "outputs": [],
   "source": []
  },
  {
   "cell_type": "markdown",
   "id": "015e09bb",
   "metadata": {},
   "source": [
    "Задачка с собеседования про списки"
   ]
  },
  {
   "cell_type": "code",
   "execution_count": null,
   "id": "a2480dec",
   "metadata": {},
   "outputs": [
    {
     "name": "stdout",
     "output_type": "stream",
     "text": [
      "[1, 2, 2, 3]\n"
     ]
    }
   ],
   "source": [
    "# вывести список пересечений элементов двух списков\n",
    "\n",
    "list_1 = [1, 2, 3, 2, 4, 5]\n",
    "list_2 = [1, 2, 2, 3, 6, 7, 0]\n",
    "\n",
    "#result = [1, 2, 2, 3]\n",
    "\n",
    "def dict_gather(lst: list) -> dict:\n",
    "    out_dict = {}\n",
    "    for n in lst:\n",
    "        out_dict[n] = out_dict.get(n, 0) + 1\n",
    "    return out_dict\n",
    "\n",
    "dict_1 = dict_gather(list_1)\n",
    "dict_2 = dict_gather(list_2)\n",
    "\n",
    "intersect = set(list(dict_1)).intersection(set(list(dict_2)))\n",
    "\n",
    "def dict_filter(dict, lst):\n",
    "    out_dict = {}\n",
    "    for k in dict:\n",
    "        if k in lst:\n",
    "            out_dict[k] = dict[k]\n",
    "    return out_dict\n",
    "\n",
    "dict1_filt = dict_filter(dict_1, intersect)\n",
    "dict2_filt = dict_filter(dict_2, intersect)\n",
    "\n",
    "result_list = []\n",
    "for n in intersect:\n",
    "    value = min(dict1_filt[n], dict2_filt[n])\n",
    "    result_list += [n] * value\n",
    "print(result_list)"
   ]
  },
  {
   "cell_type": "code",
   "execution_count": null,
   "id": "a97599fa",
   "metadata": {},
   "outputs": [
    {
     "name": "stdout",
     "output_type": "stream",
     "text": [
      "[1, 2, 2, 3]\n"
     ]
    }
   ],
   "source": [
    "from collections import Counter\n",
    "\n",
    "list_1 = [1, 2, 3, 2, 4, 5]\n",
    "list_2 = [1, 2, 2, 3, 6, 7, 0]\n",
    "\n",
    "result = list((Counter(list_1) & Counter(list_2)).elements())\n",
    "print(result)  # [1, 2, 2, 3]"
   ]
  },
  {
   "cell_type": "code",
   "execution_count": null,
   "id": "27797dfd",
   "metadata": {},
   "outputs": [
    {
     "name": "stdout",
     "output_type": "stream",
     "text": [
      "Counter({2: 2, 1: 1, 3: 1, 4: 1, 5: 1})\n",
      "Counter({2: 2, 1: 1, 3: 1, 6: 1, 7: 1, 0: 1})\n",
      "Поэлементная сумма c1 + c2: Counter({2: 4, 1: 2, 3: 2, 4: 1, 5: 1, 6: 1, 7: 1, 0: 1})\n",
      "Удаление элементов второго списка с учетом частоты сумма c1 - c2: Counter({4: 1, 5: 1})\n",
      "Вывод максимальной частоты c1 | c2: Counter({2: 2, 1: 1, 3: 1, 4: 1, 5: 1, 6: 1, 7: 1, 0: 1})\n",
      "Вывод минимальной частоты c1 & c2: Counter({2: 2, 1: 1, 3: 1})\n"
     ]
    },
    {
     "data": {
      "text/plain": [
       "[1, 2, 3, 4, 5]"
      ]
     },
     "metadata": {},
     "output_type": "display_data"
    }
   ],
   "source": [
    "list_1 = [1, 2, 3, 2, 4, 5]\n",
    "list_2 = [1, 2, 2, 3, 6, 7, 0]\n",
    "\n",
    "c1 = Counter(list_1)\n",
    "c2 = Counter(list_2)\n",
    "\n",
    "print(c1)\n",
    "print(c2)\n",
    "print(f\"Поэлементная сумма c1 + c2: {c1 + c2}\")\n",
    "print(f\"Удаление элементов второго списка с учетом частоты сумма c1 - c2: {c1 - c2}\")\n",
    "print(f\"Вывод максимальной частоты c1 | c2: {c1 | c2}\")\n",
    "print(f\"Вывод минимальной частоты c1 & c2: {c1 & c2}\")\n",
    "\n",
    "Counter('abracadabra').most_common(3)\n",
    "\n",
    "list(c1.elements())\n",
    "c1.total()\n",
    "list(c1)"
   ]
  },
  {
   "cell_type": "code",
   "execution_count": null,
   "id": "34b443d5",
   "metadata": {},
   "outputs": [
    {
     "name": "stdout",
     "output_type": "stream",
     "text": [
      "{1: 2, 2: 4, 3: 2, 4: 1, 5: 1, 6: 1, 7: 1, 0: 1}\n"
     ]
    }
   ],
   "source": [
    "list_1 = [1, 2, 3, 2, 4, 5]\n",
    "list_2 = [1, 2, 2, 3, 6, 7, 0]\n",
    "\n",
    "print(dict((Counter(list_1) + Counter(list_2)).items()))"
   ]
  },
  {
   "cell_type": "code",
   "execution_count": null,
   "id": "ddb7a930",
   "metadata": {},
   "outputs": [
    {
     "name": "stdout",
     "output_type": "stream",
     "text": [
      "{1: 2, 2: 4, 3: 2, 6: 1, 7: 1, 0: 1}\n"
     ]
    }
   ],
   "source": [
    "from collections import Counter\n",
    "\n",
    "list_1 = [1, 2, 2, 3]\n",
    "list_2 = [1, 2, 2, 3, 6, 7, 0]\n",
    "\n",
    "print(dict(Counter(list_1) + Counter(list_2)))"
   ]
  },
  {
   "cell_type": "code",
   "execution_count": null,
   "id": "a80809a7",
   "metadata": {},
   "outputs": [
    {
     "data": {
      "text/plain": [
       "[6, 7, 0]"
      ]
     },
     "metadata": {},
     "output_type": "display_data"
    }
   ],
   "source": [
    "from collections import Counter\n",
    "\n",
    "list_1 = [1, 2, 2, 3]\n",
    "list_2 = [1, 2, 2, 3, 6, 7, 0]\n",
    "\n",
    "list((Counter(list_2) - Counter(list_1)).elements())"
   ]
  },
  {
   "cell_type": "code",
   "execution_count": null,
   "id": "7e36e377",
   "metadata": {},
   "outputs": [
    {
     "data": {
      "text/plain": [
       "[1, 1, 1, 2, 2, 2, 3]"
      ]
     },
     "metadata": {},
     "output_type": "display_data"
    }
   ],
   "source": [
    "from collections import Counter\n",
    "\n",
    "list_1 = [1, 1, 1, 2, 2, 3]\n",
    "list_2 = [1, 2, 2, 2, 3, 6, 7, 0]\n",
    "\n",
    "common = set(list_1) & set(list_2)\n",
    "\n",
    "list_1 = [x for x in list_1 if x in common]\n",
    "list_2 = [x for x in list_2 if x in common]\n",
    "\n",
    "list((Counter(list_1) | Counter(list_2)).elements())"
   ]
  },
  {
   "cell_type": "code",
   "execution_count": null,
   "id": "8e2e9c12",
   "metadata": {},
   "outputs": [
    {
     "data": {
      "text/plain": [
       "6"
      ]
     },
     "metadata": {},
     "output_type": "display_data"
    }
   ],
   "source": [
    "c1.keys()\n",
    "c1.items()\n",
    "c1.total()"
   ]
  },
  {
   "cell_type": "code",
   "execution_count": null,
   "id": "7fdee635",
   "metadata": {},
   "outputs": [
    {
     "name": "stdout",
     "output_type": "stream",
     "text": [
      "115\n",
      "Counter({1: 3, 2: 1, 32: 1, 4: 1, 5: 1, 66: 1, 3: 1})\n",
      "9\n"
     ]
    },
    {
     "data": {
      "text/plain": [
       "[66, 32, 5, 4, 3, 2, 1, 1, 1]"
      ]
     },
     "metadata": {},
     "output_type": "display_data"
    }
   ],
   "source": [
    "list_1 = [1, 2, 32, 4, 5, 66, 1, 1, 3]\n",
    "print(sum(list_1))\n",
    "\n",
    "c1 = Counter(list_1)\n",
    "print(c1)\n",
    "print(f\"{c1.total()}\")\n",
    "\n",
    "sorted(list(c1.elements()), reverse=True)"
   ]
  },
  {
   "cell_type": "code",
   "execution_count": null,
   "id": "820a6041",
   "metadata": {},
   "outputs": [
    {
     "data": {
      "text/plain": [
       "[66, 32, 5, 4, 3, 2, 1, 1, 1]"
      ]
     },
     "metadata": {},
     "output_type": "display_data"
    }
   ],
   "source": [
    "list_1.sort(reverse=True)\n",
    "list_1"
   ]
  },
  {
   "cell_type": "code",
   "execution_count": null,
   "id": "4b03c6b1",
   "metadata": {},
   "outputs": [
    {
     "ename": "AttributeError",
     "evalue": "'list' object has no attribute 'sort_values'",
     "output_type": "error",
     "traceback": [
      "\u001b[1;31m---------------------------------------------------------------------------\u001b[0m\n",
      "\u001b[1;31mAttributeError\u001b[0m                            Traceback (most recent call last)\n",
      "Cell \u001b[1;32mIn[175], line 1\u001b[0m\n",
      "\u001b[1;32m----> 1\u001b[0m list_1\u001b[38;5;241m.\u001b[39msort_values()\n",
      "\n",
      "\u001b[1;31mAttributeError\u001b[0m: 'list' object has no attribute 'sort_values'"
     ]
    }
   ],
   "source": [
    ")"
   ]
  }
 ],
 "metadata": {
  "language_info": {
   "name": "python"
  }
 },
 "nbformat": 4,
 "nbformat_minor": 5
}
