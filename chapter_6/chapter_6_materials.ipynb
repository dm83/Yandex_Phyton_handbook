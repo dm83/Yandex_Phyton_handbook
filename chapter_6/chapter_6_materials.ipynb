{
 "cells": [
  {
   "cell_type": "markdown",
   "id": "ee7e38de",
   "metadata": {},
   "source": [
    "### Библиотека itertools"
   ]
  },
  {
   "cell_type": "code",
   "execution_count": 56,
   "id": "ff499e22",
   "metadata": {},
   "outputs": [],
   "source": [
    "import itertools as iter"
   ]
  },
  {
   "cell_type": "markdown",
   "id": "db9d1a66",
   "metadata": {},
   "source": [
    "### Итераторы"
   ]
  },
  {
   "cell_type": "markdown",
   "id": "1f5a0245",
   "metadata": {},
   "source": [
    "#### count"
   ]
  },
  {
   "cell_type": "code",
   "execution_count": 28,
   "id": "5cb79417",
   "metadata": {},
   "outputs": [
    {
     "name": "stdout",
     "output_type": "stream",
     "text": [
      "0\n",
      "0.1\n",
      "0.2\n",
      "0.3\n",
      "0.4\n",
      "0.5\n",
      "0.6\n",
      "0.7\n",
      "0.8\n",
      "0.9\n",
      "1.0\n"
     ]
    }
   ],
   "source": [
    "from itertools import count\n",
    "\n",
    "for value in count(0, .1):\n",
    "    if value <= 1:\n",
    "        print(round(value, 1))\n",
    "    else:\n",
    "        break"
   ]
  },
  {
   "cell_type": "markdown",
   "id": "5592d64c",
   "metadata": {},
   "source": [
    "#### cycle"
   ]
  },
  {
   "cell_type": "markdown",
   "id": "c411cc4f",
   "metadata": {},
   "source": [
    "Бесконечный перебор значений по циклу"
   ]
  },
  {
   "cell_type": "code",
   "execution_count": 43,
   "id": "1c5e5591",
   "metadata": {},
   "outputs": [
    {
     "name": "stdout",
     "output_type": "stream",
     "text": [
      "abcabcab\n"
     ]
    }
   ],
   "source": [
    "from itertools import cycle\n",
    "\n",
    "max_len = 8\n",
    "s = ''\n",
    "for letter in cycle('abc'):\n",
    "    if len(s) < max_len:\n",
    "        s += letter\n",
    "    else:\n",
    "        break\n",
    "print(s)"
   ]
  },
  {
   "cell_type": "markdown",
   "id": "c5842224",
   "metadata": {},
   "source": [
    "#### repeat"
   ]
  },
  {
   "cell_type": "markdown",
   "id": "167945aa",
   "metadata": {},
   "source": [
    "Повтор значения определенное количество раз."
   ]
  },
  {
   "cell_type": "code",
   "execution_count": 44,
   "id": "e559bee9",
   "metadata": {},
   "outputs": [
    {
     "name": "stdout",
     "output_type": "stream",
     "text": [
      "['abc', 'abc', 'abc', 'abc', 'abc']\n"
     ]
    }
   ],
   "source": [
    "from itertools import repeat\n",
    "\n",
    "result = list(repeat('abc', 5))\n",
    "print(result)"
   ]
  },
  {
   "cell_type": "markdown",
   "id": "3637d77e",
   "metadata": {},
   "source": [
    "#### accumulate"
   ]
  },
  {
   "cell_type": "markdown",
   "id": "8a6fde77",
   "metadata": {},
   "source": [
    "Итератор который возвращает накопленную сумму элементов."
   ]
  },
  {
   "cell_type": "code",
   "execution_count": 45,
   "id": "c33015b7",
   "metadata": {},
   "outputs": [
    {
     "name": "stdout",
     "output_type": "stream",
     "text": [
      "1\n",
      "3\n",
      "6\n",
      "10\n",
      "15\n"
     ]
    }
   ],
   "source": [
    "from itertools import accumulate\n",
    "\n",
    "for value in accumulate([1, 2, 3, 4, 5]):\n",
    "    print(value)"
   ]
  },
  {
   "cell_type": "code",
   "execution_count": 47,
   "id": "b05d1dee",
   "metadata": {},
   "outputs": [
    {
     "data": {
      "text/plain": [
       "[1, 3, 6, 10, 15]"
      ]
     },
     "execution_count": 47,
     "metadata": {},
     "output_type": "execute_result"
    }
   ],
   "source": [
    "list(accumulate([1, 2, 3, 4, 5]))"
   ]
  },
  {
   "cell_type": "markdown",
   "id": "e18b914f",
   "metadata": {},
   "source": [
    "#### chain"
   ]
  },
  {
   "cell_type": "markdown",
   "id": "119fa72d",
   "metadata": {},
   "source": [
    "Итератор возвращает итератор состоящий из элементов по порядку."
   ]
  },
  {
   "cell_type": "code",
   "execution_count": 53,
   "id": "5223f8eb",
   "metadata": {},
   "outputs": [
    {
     "data": {
      "text/plain": [
       "['a', 'b', 'c', '1', '2', '3', 'd', 'e', 'f']"
      ]
     },
     "execution_count": 53,
     "metadata": {},
     "output_type": "execute_result"
    }
   ],
   "source": [
    "from itertools import chain\n",
    "\n",
    "list(chain('abc', '123', 'def'))"
   ]
  },
  {
   "cell_type": "code",
   "execution_count": 55,
   "id": "47df0889",
   "metadata": {},
   "outputs": [
    {
     "data": {
      "text/plain": [
       "['a', 'b', 'c', '1', '2', '3', 'd', 'e', 'f']"
      ]
     },
     "execution_count": 55,
     "metadata": {},
     "output_type": "execute_result"
    }
   ],
   "source": [
    "values = ['abc', '123', 'def']\n",
    "list(chain.from_iterable(values))"
   ]
  },
  {
   "cell_type": "markdown",
   "id": "7ec6a4ee",
   "metadata": {},
   "source": [
    "### Комбинаторика"
   ]
  },
  {
   "cell_type": "markdown",
   "id": "f573ea7a",
   "metadata": {},
   "source": [
    "#### product"
   ]
  },
  {
   "cell_type": "code",
   "execution_count": 67,
   "id": "25088995",
   "metadata": {},
   "outputs": [
    {
     "name": "stdout",
     "output_type": "stream",
     "text": [
      "[('abc', 'abc'), ('abc', [1, 2, 3]), ([1, 2, 3], 'abc'), ([1, 2, 3], [1, 2, 3])]\n",
      "[(1, 'a'), (1, 'b'), (1, 'c'), (1, 'd'), (2, 'a'), (2, 'b'), (2, 'c'), (2, 'd'), (3, 'a'), (3, 'b'), (3, 'c'), (3, 'd')]\n",
      "[(1, 'a', 1, 'a'), (1, 'a', 1, 'b'), (1, 'a', 1, 'c'), (1, 'a', 1, 'd'), (1, 'a', 2, 'a'), (1, 'a', 2, 'b'), (1, 'a', 2, 'c'), (1, 'a', 2, 'd'), (1, 'a', 3, 'a'), (1, 'a', 3, 'b'), (1, 'a', 3, 'c'), (1, 'a', 3, 'd'), (1, 'b', 1, 'a'), (1, 'b', 1, 'b'), (1, 'b', 1, 'c'), (1, 'b', 1, 'd'), (1, 'b', 2, 'a'), (1, 'b', 2, 'b'), (1, 'b', 2, 'c'), (1, 'b', 2, 'd'), (1, 'b', 3, 'a'), (1, 'b', 3, 'b'), (1, 'b', 3, 'c'), (1, 'b', 3, 'd'), (1, 'c', 1, 'a'), (1, 'c', 1, 'b'), (1, 'c', 1, 'c'), (1, 'c', 1, 'd'), (1, 'c', 2, 'a'), (1, 'c', 2, 'b'), (1, 'c', 2, 'c'), (1, 'c', 2, 'd'), (1, 'c', 3, 'a'), (1, 'c', 3, 'b'), (1, 'c', 3, 'c'), (1, 'c', 3, 'd'), (1, 'd', 1, 'a'), (1, 'd', 1, 'b'), (1, 'd', 1, 'c'), (1, 'd', 1, 'd'), (1, 'd', 2, 'a'), (1, 'd', 2, 'b'), (1, 'd', 2, 'c'), (1, 'd', 2, 'd'), (1, 'd', 3, 'a'), (1, 'd', 3, 'b'), (1, 'd', 3, 'c'), (1, 'd', 3, 'd'), (2, 'a', 1, 'a'), (2, 'a', 1, 'b'), (2, 'a', 1, 'c'), (2, 'a', 1, 'd'), (2, 'a', 2, 'a'), (2, 'a', 2, 'b'), (2, 'a', 2, 'c'), (2, 'a', 2, 'd'), (2, 'a', 3, 'a'), (2, 'a', 3, 'b'), (2, 'a', 3, 'c'), (2, 'a', 3, 'd'), (2, 'b', 1, 'a'), (2, 'b', 1, 'b'), (2, 'b', 1, 'c'), (2, 'b', 1, 'd'), (2, 'b', 2, 'a'), (2, 'b', 2, 'b'), (2, 'b', 2, 'c'), (2, 'b', 2, 'd'), (2, 'b', 3, 'a'), (2, 'b', 3, 'b'), (2, 'b', 3, 'c'), (2, 'b', 3, 'd'), (2, 'c', 1, 'a'), (2, 'c', 1, 'b'), (2, 'c', 1, 'c'), (2, 'c', 1, 'd'), (2, 'c', 2, 'a'), (2, 'c', 2, 'b'), (2, 'c', 2, 'c'), (2, 'c', 2, 'd'), (2, 'c', 3, 'a'), (2, 'c', 3, 'b'), (2, 'c', 3, 'c'), (2, 'c', 3, 'd'), (2, 'd', 1, 'a'), (2, 'd', 1, 'b'), (2, 'd', 1, 'c'), (2, 'd', 1, 'd'), (2, 'd', 2, 'a'), (2, 'd', 2, 'b'), (2, 'd', 2, 'c'), (2, 'd', 2, 'd'), (2, 'd', 3, 'a'), (2, 'd', 3, 'b'), (2, 'd', 3, 'c'), (2, 'd', 3, 'd'), (3, 'a', 1, 'a'), (3, 'a', 1, 'b'), (3, 'a', 1, 'c'), (3, 'a', 1, 'd'), (3, 'a', 2, 'a'), (3, 'a', 2, 'b'), (3, 'a', 2, 'c'), (3, 'a', 2, 'd'), (3, 'a', 3, 'a'), (3, 'a', 3, 'b'), (3, 'a', 3, 'c'), (3, 'a', 3, 'd'), (3, 'b', 1, 'a'), (3, 'b', 1, 'b'), (3, 'b', 1, 'c'), (3, 'b', 1, 'd'), (3, 'b', 2, 'a'), (3, 'b', 2, 'b'), (3, 'b', 2, 'c'), (3, 'b', 2, 'd'), (3, 'b', 3, 'a'), (3, 'b', 3, 'b'), (3, 'b', 3, 'c'), (3, 'b', 3, 'd'), (3, 'c', 1, 'a'), (3, 'c', 1, 'b'), (3, 'c', 1, 'c'), (3, 'c', 1, 'd'), (3, 'c', 2, 'a'), (3, 'c', 2, 'b'), (3, 'c', 2, 'c'), (3, 'c', 2, 'd'), (3, 'c', 3, 'a'), (3, 'c', 3, 'b'), (3, 'c', 3, 'c'), (3, 'c', 3, 'd'), (3, 'd', 1, 'a'), (3, 'd', 1, 'b'), (3, 'd', 1, 'c'), (3, 'd', 1, 'd'), (3, 'd', 2, 'a'), (3, 'd', 2, 'b'), (3, 'd', 2, 'c'), (3, 'd', 2, 'd'), (3, 'd', 3, 'a'), (3, 'd', 3, 'b'), (3, 'd', 3, 'c'), (3, 'd', 3, 'd')]\n"
     ]
    }
   ],
   "source": [
    "from itertools import product\n",
    "\n",
    "values = ['abc', [1, 2, 3]]\n",
    "result = product(values, repeat=2)\n",
    "print(list(result))\n",
    "\n",
    "print(list(product([1, 2, 3], 'abcd')))\n",
    "print(list(product([1, 2, 3], 'abcd', repeat=2)))"
   ]
  },
  {
   "cell_type": "markdown",
   "id": "b9390b61",
   "metadata": {},
   "source": [
    "#### permutation\n"
   ]
  },
  {
   "cell_type": "code",
   "execution_count": 74,
   "id": "def67991",
   "metadata": {},
   "outputs": [
    {
     "data": {
      "text/plain": [
       "[('A', 'B', 'C'),\n",
       " ('A', 'C', 'B'),\n",
       " ('B', 'A', 'C'),\n",
       " ('B', 'C', 'A'),\n",
       " ('C', 'A', 'B'),\n",
       " ('C', 'B', 'A')]"
      ]
     },
     "metadata": {},
     "output_type": "display_data"
    },
    {
     "data": {
      "text/plain": [
       "[(1, 2, 3), (1, 3, 2), (2, 1, 3), (2, 3, 1), (3, 1, 2), (3, 2, 1)]"
      ]
     },
     "metadata": {},
     "output_type": "display_data"
    }
   ],
   "source": [
    "from itertools import permutations\n",
    "\n",
    "values = list(permutations('ABC'))\n",
    "display(values)\n",
    "\n",
    "values = list(permutations([1, 2, 3]))\n",
    "display(values)"
   ]
  },
  {
   "cell_type": "markdown",
   "id": "70b748b4",
   "metadata": {},
   "source": [
    "#### combinations"
   ]
  },
  {
   "cell_type": "code",
   "execution_count": 81,
   "id": "9615687e",
   "metadata": {},
   "outputs": [
    {
     "data": {
      "text/plain": [
       "[('a', 'b'), ('a', 'c'), ('b', 'c')]"
      ]
     },
     "metadata": {},
     "output_type": "display_data"
    }
   ],
   "source": [
    "from itertools import combinations\n",
    "\n",
    "values = list(combinations('abc', 2))\n",
    "display(values)"
   ]
  },
  {
   "cell_type": "markdown",
   "id": "8fc82d76",
   "metadata": {},
   "source": [
    "#### combinations_with_replacement"
   ]
  },
  {
   "cell_type": "code",
   "execution_count": 83,
   "id": "f0a7fad2",
   "metadata": {},
   "outputs": [
    {
     "data": {
      "text/plain": [
       "[('a', 'a'), ('a', 'b'), ('a', 'c'), ('b', 'b'), ('b', 'c'), ('c', 'c')]"
      ]
     },
     "metadata": {},
     "output_type": "display_data"
    }
   ],
   "source": [
    "from itertools import combinations_with_replacement\n",
    "\n",
    "values = list(combinations_with_replacement('abc', 2))\n",
    "display(values)"
   ]
  },
  {
   "cell_type": "markdown",
   "id": "3d9ccca3",
   "metadata": {},
   "source": [
    "## Полезные функции"
   ]
  },
  {
   "cell_type": "markdown",
   "id": "71cf61ff",
   "metadata": {},
   "source": [
    "#### enumerate()"
   ]
  },
  {
   "cell_type": "code",
   "execution_count": 87,
   "id": "a1b3e0e2",
   "metadata": {},
   "outputs": [
    {
     "name": "stdout",
     "output_type": "stream",
     "text": [
      "1 a\n",
      "2 b\n",
      "3 c\n"
     ]
    }
   ],
   "source": [
    "for ind, value in enumerate('abc', start=1):\n",
    "    print(ind, value)"
   ]
  },
  {
   "cell_type": "markdown",
   "id": "3306ef9e",
   "metadata": {},
   "source": [
    "#### zip()"
   ]
  },
  {
   "cell_type": "code",
   "execution_count": 92,
   "id": "a53eae50",
   "metadata": {},
   "outputs": [
    {
     "data": {
      "text/plain": [
       "[('a', 1), ('b', 2), ('c', 3)]"
      ]
     },
     "metadata": {},
     "output_type": "display_data"
    }
   ],
   "source": [
    "display(list(zip('abc', [1, 2, 3, 4], strict=False)))"
   ]
  },
  {
   "cell_type": "code",
   "execution_count": null,
   "id": "b742d83c",
   "metadata": {},
   "outputs": [],
   "source": []
  },
  {
   "cell_type": "code",
   "execution_count": null,
   "id": "6d7dbbdc",
   "metadata": {},
   "outputs": [],
   "source": []
  }
 ],
 "metadata": {
  "kernelspec": {
   "display_name": "base",
   "language": "python",
   "name": "python3"
  },
  "language_info": {
   "codemirror_mode": {
    "name": "ipython",
    "version": 3
   },
   "file_extension": ".py",
   "mimetype": "text/x-python",
   "name": "python",
   "nbconvert_exporter": "python",
   "pygments_lexer": "ipython3",
   "version": "3.12.4"
  }
 },
 "nbformat": 4,
 "nbformat_minor": 5
}
