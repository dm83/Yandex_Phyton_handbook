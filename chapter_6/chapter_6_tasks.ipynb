{
 "cells": [
  {
   "cell_type": "markdown",
   "id": "710202be",
   "metadata": {},
   "source": [
    "### Задача A"
   ]
  },
  {
   "cell_type": "code",
   "execution_count": 1,
   "id": "c1ffe660",
   "metadata": {},
   "outputs": [
    {
     "name": "stdout",
     "output_type": "stream",
     "text": [
      "1. картина\n",
      "2. корзина\n",
      "3. картонка\n"
     ]
    }
   ],
   "source": [
    "string = 'картина корзина картонка'\n",
    "\n",
    "for index, value in enumerate(string.split(' '), start=1):\n",
    "    print(f\"{index}. {value}\")\n"
   ]
  },
  {
   "cell_type": "markdown",
   "id": "c9ae14a3",
   "metadata": {},
   "source": [
    "### Задача B"
   ]
  },
  {
   "cell_type": "code",
   "execution_count": 6,
   "id": "eee03a07",
   "metadata": {},
   "outputs": [
    {
     "name": "stdout",
     "output_type": "stream",
     "text": [
      "Аня - Боря\n",
      "Вова - Дима\n"
     ]
    }
   ],
   "source": [
    "list_1 = 'Аня, Вова'\n",
    "list_2 = 'Боря, Дима, Гена'\n",
    "\n",
    "pairs = list(zip(list_1.split(', '), list_2.split(', ')))\n",
    "for left, right in pairs:\n",
    "    print(f\"{left} - {right}\")"
   ]
  },
  {
   "cell_type": "markdown",
   "id": "c63b9481",
   "metadata": {},
   "source": [
    "### Задача C"
   ]
  },
  {
   "cell_type": "code",
   "execution_count": 17,
   "id": "f6e0fdbf",
   "metadata": {},
   "outputs": [
    {
     "name": "stdout",
     "output_type": "stream",
     "text": [
      "3.14\n",
      "4.71\n",
      "6.28\n",
      "7.85\n",
      "9.42\n"
     ]
    }
   ],
   "source": [
    "from itertools import count\n",
    "\n",
    "start, end, step = '3.14 10 1.57'.split(' ')\n",
    "\n",
    "for n in count(float(start), float(step)):\n",
    "    if n <= float(end):\n",
    "        print(f\"{n:.2f}\")\n",
    "    else:\n",
    "        break"
   ]
  },
  {
   "cell_type": "markdown",
   "id": "4346453c",
   "metadata": {},
   "source": [
    "### Задача D"
   ]
  },
  {
   "cell_type": "markdown",
   "id": "400a3d59",
   "metadata": {},
   "source": [
    "Немного другая задача, но тоже прикольно"
   ]
  },
  {
   "cell_type": "code",
   "execution_count": 23,
   "id": "3f1e6292",
   "metadata": {},
   "outputs": [
    {
     "name": "stdout",
     "output_type": "stream",
     "text": [
      "мама \n",
      "мыла мыла \n",
      "раму раму раму \n"
     ]
    }
   ],
   "source": [
    "from itertools import repeat\n",
    "\n",
    "string = 'мама мыла раму'\n",
    "\n",
    "for index, word in enumerate(string.split(' '), 1):\n",
    "    for _ in range(index):\n",
    "        print(word, end=' ')\n",
    "    print()"
   ]
  },
  {
   "cell_type": "markdown",
   "id": "46877fca",
   "metadata": {},
   "source": [
    "Мое решение, но без использования циклов.."
   ]
  },
  {
   "cell_type": "code",
   "execution_count": null,
   "id": "15c59a91",
   "metadata": {},
   "outputs": [
    {
     "name": "stdout",
     "output_type": "stream",
     "text": [
      "мама \n",
      "мама мыла \n",
      "мама мыла раму \n"
     ]
    }
   ],
   "source": [
    "string = 'мама мыла раму'\n",
    "string_list = string.split(' ')\n",
    "\n",
    "for i in range(1, len(string_list) + 1):\n",
    "    out = string_list[:i]\n",
    "    for w in out:\n",
    "        print(w, end=' ')\n",
    "    print()"
   ]
  },
  {
   "cell_type": "markdown",
   "id": "5008777c",
   "metadata": {},
   "source": [
    "Решение с сайта с использованием accumulate"
   ]
  },
  {
   "cell_type": "code",
   "execution_count": 31,
   "id": "dec63781",
   "metadata": {},
   "outputs": [
    {
     "name": "stdout",
     "output_type": "stream",
     "text": [
      "мама \n",
      "мама мыла \n",
      "мама мыла раму \n"
     ]
    }
   ],
   "source": [
    "from itertools import accumulate\n",
    "\n",
    "string = 'мама мыла раму'\n",
    "\n",
    "for string in accumulate([word + ' ' for word in string.split(' ')]):\n",
    "    print(string)"
   ]
  },
  {
   "cell_type": "markdown",
   "id": "f718859e",
   "metadata": {},
   "source": [
    "### Задача E"
   ]
  },
  {
   "cell_type": "code",
   "execution_count": 66,
   "id": "b8b010b7",
   "metadata": {},
   "outputs": [
    {
     "name": "stdout",
     "output_type": "stream",
     "text": [
      "1. конфеты\n",
      "2. масло\n",
      "3. мясо\n",
      "4. огурцы\n",
      "5. пудра\n",
      "6. сахар\n",
      "7. хлеб\n"
     ]
    }
   ],
   "source": [
    "from itertools import chain\n",
    "\n",
    "words = []\n",
    "for _ in range(3):\n",
    "    words = chain(words, input().replace(',', '').split())\n",
    "\n",
    "words = sorted(words)\n",
    "\n",
    "for index, word in enumerate(words, 1):\n",
    "    print(f\"{index}. {word}\")"
   ]
  },
  {
   "cell_type": "markdown",
   "id": "531e78a3",
   "metadata": {},
   "source": [
    "Решение с сайта (как по мне мое решение лучше) но это более изящное"
   ]
  },
  {
   "cell_type": "code",
   "execution_count": null,
   "id": "f7d6421a",
   "metadata": {},
   "outputs": [],
   "source": [
    "from itertools import chain\n",
    "\n",
    "lst = sorted(set(chain.from_iterable([input().split(\", \") for _ in range(3)])))\n",
    "\n",
    "for index, value in enumerate(lst, 1):\n",
    "    print(f\"{index}. {value}\")"
   ]
  },
  {
   "cell_type": "markdown",
   "id": "11d1765d",
   "metadata": {},
   "source": [
    "### Задача F"
   ]
  },
  {
   "cell_type": "code",
   "execution_count": null,
   "id": "7e5bb4a9",
   "metadata": {},
   "outputs": [
    {
     "name": "stdout",
     "output_type": "stream",
     "text": [
      "2 бубен\n",
      "2 пика\n",
      "2 червей\n",
      "3 бубен\n",
      "3 пика\n",
      "3 червей\n",
      "4 бубен\n",
      "4 пика\n",
      "4 червей\n",
      "5 бубен\n",
      "5 пика\n",
      "5 червей\n",
      "6 бубен\n",
      "6 пика\n",
      "6 червей\n",
      "7 бубен\n",
      "7 пика\n",
      "7 червей\n",
      "8 бубен\n",
      "8 пика\n",
      "8 червей\n",
      "9 бубен\n",
      "9 пика\n",
      "9 червей\n",
      "10 бубен\n",
      "10 пика\n",
      "10 червей\n",
      "валет бубен\n",
      "валет пика\n",
      "валет червей\n",
      "дама бубен\n",
      "дама пика\n",
      "дама червей\n",
      "король бубен\n",
      "король пика\n",
      "король червей\n",
      "туз бубен\n",
      "туз пика\n",
      "туз червей\n"
     ]
    }
   ],
   "source": [
    "from itertools import product\n",
    "\n",
    "mast = ['пик', 'треф', 'бубен', 'червей']\n",
    "nominal = ['2', '3', '4', '5', '6', '7', '8', '9', '10', 'валет', 'дама', 'король', 'туз']\n",
    "val = 'треф'\n",
    "prod_values = list(product(nominal, [v for v in mast if v != val]))\n",
    "for n, m in prod_values:\n",
    "    print(f\"{n} {m}\")"
   ]
  },
  {
   "cell_type": "markdown",
   "id": "c0ef621d",
   "metadata": {},
   "source": [
    "### Задача G"
   ]
  },
  {
   "cell_type": "code",
   "execution_count": 79,
   "id": "5d17b89f",
   "metadata": {},
   "outputs": [
    {
     "name": "stdout",
     "output_type": "stream",
     "text": [
      "Аня - Боря\n",
      "Аня - Вова\n",
      "Боря - Вова\n"
     ]
    }
   ],
   "source": [
    "from itertools import combinations\n",
    "\n",
    "#count = int(input())\n",
    "#members = [input() for _ in range(count)]\n",
    "members = ['Аня', 'Боря', 'Вова']\n",
    "\n",
    "for first, second in list(combinations(members, 2)):\n",
    "    print(first, '-', second)"
   ]
  },
  {
   "cell_type": "markdown",
   "id": "780539e9",
   "metadata": {},
   "source": [
    "### Задача H"
   ]
  },
  {
   "cell_type": "markdown",
   "id": "67123cc3",
   "metadata": {},
   "source": [
    "Мое решение, но я не использовал итераторы и залез в numpy"
   ]
  },
  {
   "cell_type": "code",
   "execution_count": 26,
   "id": "2090581d",
   "metadata": {},
   "outputs": [
    {
     "name": "stdout",
     "output_type": "stream",
     "text": [
      "asd\n",
      "sdef\n",
      "asd\n",
      "sdef\n",
      "asd\n"
     ]
    }
   ],
   "source": [
    "import numpy as np\n",
    "\n",
    "count1 = int(input())\n",
    "porriges = [input() for _ in range(count1)]\n",
    "count2 = int(input())\n",
    "#porriges = ['Манная', 'Гречневая', 'Пшённая', 'Овсяная', 'Рисовая']\n",
    "\n",
    "for i in [x % count1 for x in range(count2)]:\n",
    "    print(porriges[i])"
   ]
  },
  {
   "cell_type": "code",
   "execution_count": 29,
   "id": "4fa5236d",
   "metadata": {},
   "outputs": [
    {
     "name": "stdout",
     "output_type": "stream",
     "text": [
      "Манная\n",
      "Гречневая\n",
      "Пшённая\n"
     ]
    }
   ],
   "source": [
    "porriges = ['Манная', 'Гречневая', 'Пшённая', 'Овсяная', 'Рисовая']\n",
    "days = 3\n",
    "print('\\n'.join(islice(cycle(porriges), days)))"
   ]
  },
  {
   "cell_type": "markdown",
   "id": "1a862191",
   "metadata": {},
   "source": [
    "Решение с сайта с использованием итераторов.\n",
    "Очень крутая связка islice(cycle(list), len), cycle(list) - бесконечный повторяющийся список"
   ]
  },
  {
   "cell_type": "code",
   "execution_count": null,
   "id": "855b55a2",
   "metadata": {},
   "outputs": [],
   "source": [
    "from itertools import cycle, islice\n",
    "\n",
    "porriges = [input() for _ in range(int(input()))]\n",
    "\n",
    "days = int(input())\n",
    "\n",
    "print('\\n',join(islice(cycle(porriges), days)))"
   ]
  },
  {
   "cell_type": "markdown",
   "id": "8a3575e0",
   "metadata": {},
   "source": [
    "### Задача I"
   ]
  },
  {
   "cell_type": "code",
   "execution_count": null,
   "id": "aec1ae68",
   "metadata": {},
   "outputs": [],
   "source": []
  },
  {
   "cell_type": "markdown",
   "id": "ad1961a8",
   "metadata": {},
   "source": [
    "### Задача J"
   ]
  },
  {
   "cell_type": "markdown",
   "id": "c55d88a2",
   "metadata": {},
   "source": [
    "### Задача K"
   ]
  },
  {
   "cell_type": "markdown",
   "id": "537d97cd",
   "metadata": {},
   "source": [
    "### Задача L"
   ]
  },
  {
   "cell_type": "markdown",
   "id": "4f696d27",
   "metadata": {},
   "source": [
    "### Задача M"
   ]
  },
  {
   "cell_type": "markdown",
   "id": "96487f72",
   "metadata": {},
   "source": [
    "### Задача N"
   ]
  },
  {
   "cell_type": "markdown",
   "id": "e5d3146a",
   "metadata": {},
   "source": [
    "### Задача O"
   ]
  },
  {
   "cell_type": "markdown",
   "id": "9b200bac",
   "metadata": {},
   "source": [
    "### Задача P"
   ]
  },
  {
   "cell_type": "markdown",
   "id": "bd16c8e0",
   "metadata": {},
   "source": [
    "### Задача Q"
   ]
  },
  {
   "cell_type": "markdown",
   "id": "3c450561",
   "metadata": {},
   "source": [
    "### Задача R"
   ]
  },
  {
   "cell_type": "markdown",
   "id": "11c6d3bf",
   "metadata": {},
   "source": [
    "### Задача S"
   ]
  },
  {
   "cell_type": "markdown",
   "id": "1012cf7c",
   "metadata": {},
   "source": [
    "### Задача T"
   ]
  },
  {
   "cell_type": "markdown",
   "id": "3e51b7d0",
   "metadata": {},
   "source": []
  },
  {
   "cell_type": "markdown",
   "id": "ac3cfccb",
   "metadata": {},
   "source": []
  },
  {
   "cell_type": "code",
   "execution_count": null,
   "id": "dcd97b4f",
   "metadata": {},
   "outputs": [],
   "source": []
  },
  {
   "cell_type": "code",
   "execution_count": null,
   "id": "9d3fe6b9",
   "metadata": {},
   "outputs": [],
   "source": []
  },
  {
   "cell_type": "code",
   "execution_count": null,
   "id": "7e10a8cc",
   "metadata": {},
   "outputs": [],
   "source": []
  },
  {
   "cell_type": "code",
   "execution_count": null,
   "id": "3461f3f3",
   "metadata": {},
   "outputs": [],
   "source": []
  }
 ],
 "metadata": {
  "kernelspec": {
   "display_name": "base",
   "language": "python",
   "name": "python3"
  },
  "language_info": {
   "codemirror_mode": {
    "name": "ipython",
    "version": 3
   },
   "file_extension": ".py",
   "mimetype": "text/x-python",
   "name": "python",
   "nbconvert_exporter": "python",
   "pygments_lexer": "ipython3",
   "version": "3.12.4"
  }
 },
 "nbformat": 4,
 "nbformat_minor": 5
}
