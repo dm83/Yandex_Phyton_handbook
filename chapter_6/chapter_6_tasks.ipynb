{
 "cells": [
  {
   "cell_type": "markdown",
   "id": "710202be",
   "metadata": {},
   "source": [
    "### Задача A: Автоматизация списка"
   ]
  },
  {
   "cell_type": "code",
   "execution_count": 1,
   "id": "c1ffe660",
   "metadata": {},
   "outputs": [
    {
     "name": "stdout",
     "output_type": "stream",
     "text": [
      "1. картина\n",
      "2. корзина\n",
      "3. картонка\n"
     ]
    }
   ],
   "source": [
    "string = 'картина корзина картонка'\n",
    "\n",
    "for index, value in enumerate(string.split(' '), start=1):\n",
    "    print(f\"{index}. {value}\")\n"
   ]
  },
  {
   "cell_type": "markdown",
   "id": "c9ae14a3",
   "metadata": {},
   "source": [
    "### Задача B: Сборы на прогулку"
   ]
  },
  {
   "cell_type": "code",
   "execution_count": 6,
   "id": "eee03a07",
   "metadata": {},
   "outputs": [
    {
     "name": "stdout",
     "output_type": "stream",
     "text": [
      "Аня - Боря\n",
      "Вова - Дима\n"
     ]
    }
   ],
   "source": [
    "list_1 = 'Аня, Вова'\n",
    "list_2 = 'Боря, Дима, Гена'\n",
    "\n",
    "pairs = list(zip(list_1.split(', '), list_2.split(', ')))\n",
    "for left, right in pairs:\n",
    "    print(f\"{left} - {right}\")"
   ]
  },
  {
   "cell_type": "markdown",
   "id": "c63b9481",
   "metadata": {},
   "source": [
    "### Задача C: Рациональная считалочка"
   ]
  },
  {
   "cell_type": "code",
   "execution_count": 17,
   "id": "f6e0fdbf",
   "metadata": {},
   "outputs": [
    {
     "name": "stdout",
     "output_type": "stream",
     "text": [
      "3.14\n",
      "4.71\n",
      "6.28\n",
      "7.85\n",
      "9.42\n"
     ]
    }
   ],
   "source": [
    "from itertools import count\n",
    "\n",
    "start, end, step = '3.14 10 1.57'.split(' ')\n",
    "\n",
    "for n in count(float(start), float(step)):\n",
    "    if n <= float(end):\n",
    "        print(f\"{n:.2f}\")\n",
    "    else:\n",
    "        break"
   ]
  },
  {
   "cell_type": "markdown",
   "id": "4346453c",
   "metadata": {},
   "source": [
    "### Задача D: Словарная ёлка"
   ]
  },
  {
   "cell_type": "markdown",
   "id": "400a3d59",
   "metadata": {},
   "source": [
    "Немного другая задача, но тоже прикольно"
   ]
  },
  {
   "cell_type": "code",
   "execution_count": 23,
   "id": "3f1e6292",
   "metadata": {},
   "outputs": [
    {
     "name": "stdout",
     "output_type": "stream",
     "text": [
      "мама \n",
      "мыла мыла \n",
      "раму раму раму \n"
     ]
    }
   ],
   "source": [
    "from itertools import repeat\n",
    "\n",
    "string = 'мама мыла раму'\n",
    "\n",
    "for index, word in enumerate(string.split(' '), 1):\n",
    "    for _ in range(index):\n",
    "        print(word, end=' ')\n",
    "    print()"
   ]
  },
  {
   "cell_type": "markdown",
   "id": "46877fca",
   "metadata": {},
   "source": [
    "Мое решение, но без использования циклов.."
   ]
  },
  {
   "cell_type": "code",
   "execution_count": null,
   "id": "15c59a91",
   "metadata": {},
   "outputs": [
    {
     "name": "stdout",
     "output_type": "stream",
     "text": [
      "мама \n",
      "мама мыла \n",
      "мама мыла раму \n"
     ]
    }
   ],
   "source": [
    "string = 'мама мыла раму'\n",
    "string_list = string.split(' ')\n",
    "\n",
    "for i in range(1, len(string_list) + 1):\n",
    "    out = string_list[:i]\n",
    "    for w in out:\n",
    "        print(w, end=' ')\n",
    "    print()"
   ]
  },
  {
   "cell_type": "markdown",
   "id": "5008777c",
   "metadata": {},
   "source": [
    "Решение с сайта с использованием accumulate"
   ]
  },
  {
   "cell_type": "code",
   "execution_count": 31,
   "id": "dec63781",
   "metadata": {},
   "outputs": [
    {
     "name": "stdout",
     "output_type": "stream",
     "text": [
      "мама \n",
      "мама мыла \n",
      "мама мыла раму \n"
     ]
    }
   ],
   "source": [
    "from itertools import accumulate\n",
    "\n",
    "string = 'мама мыла раму'\n",
    "\n",
    "for string in accumulate([word + ' ' for word in string.split(' ')]):\n",
    "    print(string)"
   ]
  },
  {
   "cell_type": "markdown",
   "id": "f718859e",
   "metadata": {},
   "source": [
    "### Задача E: Список покупок"
   ]
  },
  {
   "cell_type": "code",
   "execution_count": 66,
   "id": "b8b010b7",
   "metadata": {},
   "outputs": [
    {
     "name": "stdout",
     "output_type": "stream",
     "text": [
      "1. конфеты\n",
      "2. масло\n",
      "3. мясо\n",
      "4. огурцы\n",
      "5. пудра\n",
      "6. сахар\n",
      "7. хлеб\n"
     ]
    }
   ],
   "source": [
    "from itertools import chain\n",
    "\n",
    "words = []\n",
    "for _ in range(3):\n",
    "    words = chain(words, input().replace(',', '').split())\n",
    "\n",
    "words = sorted(words)\n",
    "\n",
    "for index, word in enumerate(words, 1):\n",
    "    print(f\"{index}. {word}\")"
   ]
  },
  {
   "cell_type": "markdown",
   "id": "531e78a3",
   "metadata": {},
   "source": [
    "Решение с сайта (как по мне мое решение лучше) но это более изящное"
   ]
  },
  {
   "cell_type": "code",
   "execution_count": null,
   "id": "f7d6421a",
   "metadata": {},
   "outputs": [],
   "source": [
    "from itertools import chain\n",
    "\n",
    "lst = sorted(set(chain.from_iterable([input().split(\", \") for _ in range(3)])))\n",
    "\n",
    "for index, value in enumerate(lst, 1):\n",
    "    print(f\"{index}. {value}\")"
   ]
  },
  {
   "cell_type": "markdown",
   "id": "11d1765d",
   "metadata": {},
   "source": [
    "### Задача F: Колода карт"
   ]
  },
  {
   "cell_type": "code",
   "execution_count": null,
   "id": "7e5bb4a9",
   "metadata": {},
   "outputs": [
    {
     "name": "stdout",
     "output_type": "stream",
     "text": [
      "2 бубен\n",
      "2 пика\n",
      "2 червей\n",
      "3 бубен\n",
      "3 пика\n",
      "3 червей\n",
      "4 бубен\n",
      "4 пика\n",
      "4 червей\n",
      "5 бубен\n",
      "5 пика\n",
      "5 червей\n",
      "6 бубен\n",
      "6 пика\n",
      "6 червей\n",
      "7 бубен\n",
      "7 пика\n",
      "7 червей\n",
      "8 бубен\n",
      "8 пика\n",
      "8 червей\n",
      "9 бубен\n",
      "9 пика\n",
      "9 червей\n",
      "10 бубен\n",
      "10 пика\n",
      "10 червей\n",
      "валет бубен\n",
      "валет пика\n",
      "валет червей\n",
      "дама бубен\n",
      "дама пика\n",
      "дама червей\n",
      "король бубен\n",
      "король пика\n",
      "король червей\n",
      "туз бубен\n",
      "туз пика\n",
      "туз червей\n"
     ]
    }
   ],
   "source": [
    "from itertools import product\n",
    "\n",
    "mast = ['пик', 'треф', 'бубен', 'червей']\n",
    "nominal = ['2', '3', '4', '5', '6', '7', '8', '9', '10', 'валет', 'дама', 'король', 'туз']\n",
    "val = 'треф'\n",
    "prod_values = list(product(nominal, [v for v in mast if v != val]))\n",
    "for n, m in prod_values:\n",
    "    print(f\"{n} {m}\")"
   ]
  },
  {
   "cell_type": "markdown",
   "id": "c0ef621d",
   "metadata": {},
   "source": [
    "### Задача G: Игровая сетка"
   ]
  },
  {
   "cell_type": "code",
   "execution_count": 79,
   "id": "5d17b89f",
   "metadata": {},
   "outputs": [
    {
     "name": "stdout",
     "output_type": "stream",
     "text": [
      "Аня - Боря\n",
      "Аня - Вова\n",
      "Боря - Вова\n"
     ]
    }
   ],
   "source": [
    "from itertools import combinations\n",
    "\n",
    "#count = int(input())\n",
    "#members = [input() for _ in range(count)]\n",
    "members = ['Аня', 'Боря', 'Вова']\n",
    "\n",
    "for first, second in list(combinations(members, 2)):\n",
    "    print(first, '-', second)"
   ]
  },
  {
   "cell_type": "markdown",
   "id": "780539e9",
   "metadata": {},
   "source": [
    "### Задача H: Меню питания 2.0"
   ]
  },
  {
   "cell_type": "markdown",
   "id": "67123cc3",
   "metadata": {},
   "source": [
    "Мое решение, но я не использовал итераторы и залез в numpy"
   ]
  },
  {
   "cell_type": "code",
   "execution_count": 26,
   "id": "2090581d",
   "metadata": {},
   "outputs": [
    {
     "name": "stdout",
     "output_type": "stream",
     "text": [
      "asd\n",
      "sdef\n",
      "asd\n",
      "sdef\n",
      "asd\n"
     ]
    }
   ],
   "source": [
    "import numpy as np\n",
    "\n",
    "count1 = int(input())\n",
    "porriges = [input() for _ in range(count1)]\n",
    "count2 = int(input())\n",
    "#porriges = ['Манная', 'Гречневая', 'Пшённая', 'Овсяная', 'Рисовая']\n",
    "\n",
    "for i in [x % count1 for x in range(count2)]:\n",
    "    print(porriges[i])"
   ]
  },
  {
   "cell_type": "code",
   "execution_count": 29,
   "id": "4fa5236d",
   "metadata": {},
   "outputs": [
    {
     "name": "stdout",
     "output_type": "stream",
     "text": [
      "Манная\n",
      "Гречневая\n",
      "Пшённая\n"
     ]
    }
   ],
   "source": [
    "porriges = ['Манная', 'Гречневая', 'Пшённая', 'Овсяная', 'Рисовая']\n",
    "days = 3\n",
    "print('\\n'.join(islice(cycle(porriges), days)))"
   ]
  },
  {
   "cell_type": "markdown",
   "id": "1a862191",
   "metadata": {},
   "source": [
    "Решение с сайта с использованием итераторов.\n",
    "Очень крутая связка islice(cycle(list), len), cycle(list) - бесконечный повторяющийся список"
   ]
  },
  {
   "cell_type": "code",
   "execution_count": null,
   "id": "855b55a2",
   "metadata": {},
   "outputs": [],
   "source": [
    "from itertools import cycle, islice\n",
    "\n",
    "porriges = [input() for _ in range(int(input()))]\n",
    "\n",
    "days = int(input())\n",
    "\n",
    "print('\\n',join(islice(cycle(porriges), days)))"
   ]
  },
  {
   "cell_type": "markdown",
   "id": "8a3575e0",
   "metadata": {},
   "source": [
    "### Задача I: Таблица умножения 3.0"
   ]
  },
  {
   "cell_type": "markdown",
   "id": "ef9786a6",
   "metadata": {},
   "source": [
    "Мое решение, но мне кажется что можно как-то более красиво напечатать. Тренажер не пропускает мое решение из-за пробелов в конце строк я так понимаю"
   ]
  },
  {
   "cell_type": "code",
   "execution_count": 70,
   "id": "aec1ae68",
   "metadata": {},
   "outputs": [
    {
     "name": "stdout",
     "output_type": "stream",
     "text": [
      "1 2 3 4 5\n",
      "2 4 6 8 10\n",
      "3 6 9 12 15\n",
      "4 8 12 16 20\n",
      "5 10 15 20 25\n"
     ]
    }
   ],
   "source": [
    "from itertools import product\n",
    "\n",
    "value = 5\n",
    "\n",
    "prod_list = list(product(range(1, value + 1), repeat = 2))\n",
    "\n",
    "for i, t in enumerate(prod_list, start=1):\n",
    "    index = i % value + 1\n",
    "    if index == 1:\n",
    "        print(t[0] * t[1])\n",
    "    else:\n",
    "        print(t[0] * t[1], end=' ')\n",
    "\n"
   ]
  },
  {
   "cell_type": "markdown",
   "id": "f5fbafb7",
   "metadata": {},
   "source": [
    "Решение с сайта"
   ]
  },
  {
   "cell_type": "code",
   "execution_count": null,
   "id": "c8cfd966",
   "metadata": {},
   "outputs": [
    {
     "name": "stdout",
     "output_type": "stream",
     "text": [
      "1 2 3 4 5\n",
      "2 4 6 8 10\n",
      "3 6 9 12 15\n",
      "4 8 12 16 20\n",
      "5 10 15 20 25\n"
     ]
    }
   ],
   "source": [
    "\"\"\"\n",
    "islice - функция из модуля itertools, которая берёт срез (подсписок) из итерируемого объекта.\n",
    "row * size - начальный индекс среза (откуда брать элементы).\n",
    "(row + 1) * size - конечный индекс (до какого элемента брать, не включая его).\n",
    "Например, если row = 1 и size = 4, то срез будет с 4 по 7 элемент (индексы 4, 5, 6, 7).\n",
    "print(*islice(...))\n",
    "Звёздочка (*) \"раскрывает\" элементы среза, и они выводятся через пробел.\n",
    "\"\"\"\n",
    "\n",
    "from itertools import product, islice\n",
    "\n",
    "size = 5\n",
    "\n",
    "nums = range(1, size + 1)\n",
    "\n",
    "table = [x * y for x, y in product(nums, repeat=2)]\n",
    "\n",
    "for row in range(size):\n",
    "    print(*islice(table, row * size, (row + 1) * size))"
   ]
  },
  {
   "cell_type": "code",
   "execution_count": null,
   "id": "88f44ee3",
   "metadata": {},
   "outputs": [
    {
     "name": "stdout",
     "output_type": "stream",
     "text": [
      "1 2 3 4 5 6\n",
      "2 4 6 8 10 12\n",
      "3 6 9 12 15 18\n",
      "4 8 12 16 20 24\n",
      "5 10 15 20 25 30\n",
      "6 12 18 24 30 36\n"
     ]
    }
   ],
   "source": [
    "# повтор решения с сайта\n",
    "from itertools import product, islice\n",
    "\n",
    "count = 6\n",
    "\n",
    "prod_table = [x * k for x, k in product(range(1, count + 1), repeat=2)]\n",
    "\n",
    "for row in range(count):\n",
    "    print(*islice(prod_table, row * count, (row + 1) * count))"
   ]
  },
  {
   "cell_type": "markdown",
   "id": "ad1961a8",
   "metadata": {},
   "source": [
    "### Задача J: Мы делили апельсин 2.0"
   ]
  },
  {
   "cell_type": "code",
   "execution_count": 90,
   "id": "9375103d",
   "metadata": {},
   "outputs": [
    {
     "data": {
      "text/plain": [
       "[1, 2, 3]"
      ]
     },
     "execution_count": 90,
     "metadata": {},
     "output_type": "execute_result"
    }
   ],
   "source": [
    "list(range(1, 4))"
   ]
  },
  {
   "cell_type": "code",
   "execution_count": 121,
   "id": "23c43d0e",
   "metadata": {},
   "outputs": [
    {
     "name": "stdout",
     "output_type": "stream",
     "text": [
      "А Б В\n",
      "1 1 5\n",
      "1 2 4\n",
      "1 3 3\n",
      "1 4 2\n",
      "1 5 1\n",
      "2 1 4\n",
      "2 2 3\n",
      "2 3 2\n",
      "2 4 1\n",
      "3 1 3\n",
      "3 2 2\n",
      "3 3 1\n",
      "4 1 2\n",
      "4 2 1\n",
      "5 1 1\n"
     ]
    }
   ],
   "source": [
    "from itertools import product, islice\n",
    "\n",
    "value = 7\n",
    "vars_for_1 = list(range(1, value + 1))\n",
    "list_of_vars = list(product(vars_for_1, repeat=3))\n",
    "list_of_vars = [t for t in list_of_vars if sum(t) == value]\n",
    "\n",
    "print('А Б В')\n",
    "for t in list_of_vars:\n",
    "    print(*t)"
   ]
  },
  {
   "cell_type": "markdown",
   "id": "c55d88a2",
   "metadata": {},
   "source": [
    "### Задача K: Числовой прямоугольник 3.0"
   ]
  },
  {
   "cell_type": "code",
   "execution_count": 137,
   "id": "7e9d120c",
   "metadata": {},
   "outputs": [
    {
     "data": {
      "text/plain": [
       "[1, 2, 3, 4, 5, 6]"
      ]
     },
     "execution_count": 137,
     "metadata": {},
     "output_type": "execute_result"
    }
   ],
   "source": [
    "numerics"
   ]
  },
  {
   "cell_type": "code",
   "execution_count": 199,
   "id": "80797a4e",
   "metadata": {},
   "outputs": [
    {
     "name": "stdout",
     "output_type": "stream",
     "text": [
      " 1  2  3  4  5  6  7  8  9 \n",
      "10 11 12 13 14 15 16 17 18 \n",
      "19 20 21 22 23 24 25 26 27 \n",
      "28 29 30 31 32 33 34 35 36 \n",
      "37 38 39 40 41 42 43 44 45 \n",
      "46 47 48 49 50 51 52 53 54 \n",
      "55 56 57 58 59 60 61 62 63 \n"
     ]
    }
   ],
   "source": [
    "from itertools import islice\n",
    "\n",
    "rows = 7\n",
    "cols = 9\n",
    "\n",
    "numerics = list(range(1, rows * cols + 1))\n",
    "value_width = len(str(numerics[-1]))\n",
    "\n",
    "for row in range(rows ):\n",
    "    row_values = list(islice(numerics, row * cols, (row + 1) * cols))\n",
    "    for value in row_values:\n",
    "        print(f\"{value:>{value_width}}\", end=' ')\n",
    "    print()"
   ]
  },
  {
   "cell_type": "markdown",
   "id": "51ca5545",
   "metadata": {},
   "source": [
    "Решение с сайта (не разбирал построчно)"
   ]
  },
  {
   "cell_type": "code",
   "execution_count": null,
   "id": "e18ecc6c",
   "metadata": {},
   "outputs": [],
   "source": [
    "from itertools import product\n",
    "\n",
    "x = int(input())\n",
    "y = int(input())\n",
    "\n",
    "ln = len(str(x * y))\n",
    "\n",
    "for i, j in product(range(1, x + 1), range(1, y + 1)):\n",
    "    print(f'{((i - 1) * y + j):>{ln}}', end=' ')\n",
    "    if j == y:\n",
    "        print()"
   ]
  },
  {
   "cell_type": "markdown",
   "id": "537d97cd",
   "metadata": {},
   "source": [
    "### Задача L: Список покупок 2.0"
   ]
  },
  {
   "cell_type": "code",
   "execution_count": null,
   "id": "ef4b4691",
   "metadata": {},
   "outputs": [
    {
     "name": "stdout",
     "output_type": "stream",
     "text": [
      "1. картина\n",
      "2. картонка\n",
      "3. корзина\n",
      "4. манка\n",
      "5. мыло\n"
     ]
    }
   ],
   "source": [
    "from itertools import chain\n",
    "\n",
    "list_of_prod = []\n",
    "count = int(input())\n",
    "for _ in range(count):\n",
    "    list_of_prod = chain(list_of_prod, input().split(', '))\n",
    "\n",
    "#list_of_prod = ['картина', 'корзина', 'картонка', 'мыло', 'манка']\n",
    "list_of_prod = sorted(list(list_of_prod))\n",
    "\n",
    "for index, name in enumerate(list_of_prod, start=1):\n",
    "    print(f\"{index}. {name}\")\n"
   ]
  },
  {
   "cell_type": "markdown",
   "id": "4f696d27",
   "metadata": {},
   "source": [
    "### Задача M: Расстановка спортсменов"
   ]
  },
  {
   "cell_type": "code",
   "execution_count": 174,
   "id": "ddeadab4",
   "metadata": {},
   "outputs": [
    {
     "name": "stdout",
     "output_type": "stream",
     "text": [
      "Help on built-in function print in module builtins:\n",
      "\n",
      "print(*args, sep=' ', end='\\n', file=None, flush=False)\n",
      "    Prints the values to a stream, or to sys.stdout by default.\n",
      "\n",
      "    sep\n",
      "      string inserted between values, default a space.\n",
      "    end\n",
      "      string appended after the last value, default a newline.\n",
      "    file\n",
      "      a file-like object (stream); defaults to the current sys.stdout.\n",
      "    flush\n",
      "      whether to forcibly flush the stream.\n",
      "\n"
     ]
    }
   ],
   "source": [
    "help(print)"
   ]
  },
  {
   "cell_type": "code",
   "execution_count": 180,
   "id": "16f2b99e",
   "metadata": {},
   "outputs": [
    {
     "name": "stdout",
     "output_type": "stream",
     "text": [
      "a, d, f\n",
      "a, d, s\n",
      "a, f, d\n",
      "a, f, s\n",
      "a, s, d\n",
      "a, s, f\n",
      "d, a, f\n",
      "d, a, s\n",
      "d, f, a\n",
      "d, f, s\n",
      "d, s, a\n",
      "d, s, f\n",
      "f, a, d\n",
      "f, a, s\n",
      "f, d, a\n",
      "f, d, s\n",
      "f, s, a\n",
      "f, s, d\n",
      "s, a, d\n",
      "s, a, f\n",
      "s, d, a\n",
      "s, d, f\n",
      "s, f, a\n",
      "s, f, d\n"
     ]
    }
   ],
   "source": [
    "from itertools import permutations\n",
    "\n",
    "names = []\n",
    "for _ in range(int(input())):\n",
    "    names.append(input())\n",
    "\n",
    "vars = list(permutations(sorted(names), 3))\n",
    "\n",
    "for row in vars:\n",
    "    print(*row, sep=', ')"
   ]
  },
  {
   "cell_type": "markdown",
   "id": "96487f72",
   "metadata": {},
   "source": [
    "### Задача N: Список покупок 3.0\n"
   ]
  },
  {
   "cell_type": "code",
   "execution_count": null,
   "id": "3cc5387c",
   "metadata": {},
   "outputs": [
    {
     "name": "stdout",
     "output_type": "stream",
     "text": [
      "a d t\n",
      "a d y\n",
      "a t d\n",
      "a t y\n",
      "a y d\n",
      "a y t\n",
      "d a t\n",
      "d a y\n",
      "d t a\n",
      "d t y\n",
      "d y a\n",
      "d y t\n",
      "t a d\n",
      "t a y\n",
      "t d a\n",
      "t d y\n",
      "t y a\n",
      "t y d\n",
      "y a d\n",
      "y a t\n",
      "y d a\n",
      "y d t\n",
      "y t a\n",
      "y t d\n"
     ]
    }
   ],
   "source": [
    "from itertools import permutations\n",
    "\n",
    "count = int(input())\n",
    "\n",
    "lst = []\n",
    "for _ in range(count):\n",
    "    lst += input().replace(',', '').split()\n",
    "\n",
    "lst = sorted(list(set(lst)))\n",
    "\n",
    "for row in permutations(lst, 3):\n",
    "    print(*row)"
   ]
  },
  {
   "cell_type": "markdown",
   "id": "e5d3146a",
   "metadata": {},
   "source": [
    "### Задача O: Расклад таков..."
   ]
  },
  {
   "cell_type": "markdown",
   "id": "8f70eed6",
   "metadata": {},
   "source": [
    "Решение с сайта (не охота разбираться в условии задачи). Решение изучил внимательно."
   ]
  },
  {
   "cell_type": "code",
   "execution_count": null,
   "id": "2e6b8d21",
   "metadata": {},
   "outputs": [
    {
     "ename": "SyntaxError",
     "evalue": "invalid syntax (2957960350.py, line 1)",
     "output_type": "error",
     "traceback": [
      "\u001b[1;36m  Cell \u001b[1;32mIn[185], line 1\u001b[1;36m\u001b[0m\n\u001b[1;33m    Решение с сайта (не охота разбираться в условии задачи)\u001b[0m\n\u001b[1;37m            ^\u001b[0m\n\u001b[1;31mSyntaxError\u001b[0m\u001b[1;31m:\u001b[0m invalid syntax\n"
     ]
    }
   ],
   "source": [
    "from itertools import chain, permutations, product\n",
    "\n",
    "suit = input().strip()\n",
    "rank = input().strip()\n",
    "\n",
    "suits = {'буби': 'бубен', 'пики': 'пик', 'трефы': 'треф', 'черви': 'червей'}\n",
    "ranks = ['10', '2', '3', '4', '5', '6', '7', '8', '9', 'валет', 'дама', 'король', 'туз']\n",
    "\n",
    "ranks.remove(rank)\n",
    "\n",
    "deck = product(ranks, suits.values())\n",
    "\n",
    "triplets = permutations(deck, 3)\n",
    "\n",
    "triplets = [triplet for triplet in triplets if suits[suit] in chain.from_iterable(triplet)]\n",
    "# triplets.sort()\n",
    "\n",
    "sorted_combinations = sorted(triplets)\n",
    "for combination in sorted_combinations[:10]:\n",
    "    print(', '.join(f'{rank} {suit}' for rank, suit in combination))"
   ]
  },
  {
   "cell_type": "markdown",
   "id": "9b200bac",
   "metadata": {},
   "source": [
    "### Задача P: А есть еще варианты?"
   ]
  },
  {
   "cell_type": "markdown",
   "id": "c3a0a3ba",
   "metadata": {},
   "source": [
    "Решение с сайта. Не люблю карты и нет времени разбираться в условии задачи.. (решение изучил)"
   ]
  },
  {
   "cell_type": "code",
   "execution_count": null,
   "id": "3f2ca2d9",
   "metadata": {},
   "outputs": [],
   "source": [
    "from itertools import chain, combinations, product\n",
    "\n",
    "suit = input().strip()\n",
    "rank = input().strip()\n",
    "hand = input()\n",
    "\n",
    "suits = {'буби': 'бубен', 'пики': 'пик', 'трефы': 'треф', 'черви': 'червей'}\n",
    "ranks = ['10', '2', '3', '4', '5', '6', '7', '8', '9', 'валет', 'дама', 'король', 'туз']\n",
    "\n",
    "ranks.remove(rank)\n",
    "\n",
    "deck = product(ranks, suits.values())\n",
    "\n",
    "triplets = combinations(deck, 3)\n",
    "triplets = [triplet for triplet in triplets if suits[suit] in chain.from_iterable(triplet)]\n",
    "triplets.sort()\n",
    "\n",
    "print_next = False\n",
    "\n",
    "for triplet in triplets:\n",
    "    if print_next:\n",
    "        print(', '.join(f'{rank} {suit}' for rank, suit in triplet))\n",
    "        break\n",
    "    if ', '.join(f'{rank} {suit}' for rank, suit in triplet) == hand:\n",
    "        print_next = True"
   ]
  },
  {
   "cell_type": "markdown",
   "id": "bd16c8e0",
   "metadata": {},
   "source": [
    "### Задача Q"
   ]
  },
  {
   "cell_type": "markdown",
   "id": "f0e0830b",
   "metadata": {},
   "source": [
    "Решение с сайта"
   ]
  },
  {
   "cell_type": "code",
   "execution_count": null,
   "id": "d12d5092",
   "metadata": {},
   "outputs": [],
   "source": [
    "from itertools import product\n",
    "\n",
    "expression = input()\n",
    "print('a b c f')\n",
    "for a, b, c in product([0, 1], repeat=3):\n",
    "    print(a, b, c, int(eval(expression, {'a': a, 'b': b, 'c': c})))"
   ]
  },
  {
   "cell_type": "markdown",
   "id": "3c450561",
   "metadata": {},
   "source": [
    "### Задача R"
   ]
  },
  {
   "cell_type": "code",
   "execution_count": 232,
   "id": "350234ae",
   "metadata": {},
   "outputs": [
    {
     "name": "stdout",
     "output_type": "stream",
     "text": [
      "a b c f\n",
      "0 0 0 1\n",
      "0 0 1 1\n",
      "0 1 0 1\n",
      "0 1 1 1\n",
      "1 0 0 0\n",
      "1 0 1 0\n",
      "1 1 0 0\n",
      "1 1 1 1\n"
     ]
    }
   ],
   "source": [
    "from itertools import product\n",
    "\n",
    "expression = 'not a or b and c' #input()\n",
    "\n",
    "print('a b c f')\n",
    "for a, b, c in list(product([0, 1], repeat=3)):\n",
    "    print(a, b, c, int(eval(expression, {'a': a, 'b': b, 'c': c})))"
   ]
  },
  {
   "cell_type": "markdown",
   "id": "11c6d3bf",
   "metadata": {},
   "source": [
    "### Задача S"
   ]
  },
  {
   "cell_type": "code",
   "execution_count": 239,
   "id": "546e56f8",
   "metadata": {},
   "outputs": [
    {
     "data": {
      "text/plain": [
       "['A', 'B', 'C']"
      ]
     },
     "execution_count": 239,
     "metadata": {},
     "output_type": "execute_result"
    }
   ],
   "source": [
    "expression = 'not A or B and C'\n",
    "\n",
    "vars = [var for var in sorted(set(expression.split())) if var.isupper()]\n",
    "vars"
   ]
  },
  {
   "cell_type": "code",
   "execution_count": 244,
   "id": "7892a4ef",
   "metadata": {},
   "outputs": [
    {
     "name": "stdout",
     "output_type": "stream",
     "text": [
      "A B C F\n",
      "0 0 0 1\n",
      "0 0 1 1\n",
      "0 1 0 1\n",
      "0 1 1 1\n",
      "1 0 0 0\n",
      "1 0 1 0\n",
      "1 1 0 0\n",
      "1 1 1 1\n"
     ]
    }
   ],
   "source": [
    "from itertools import product\n",
    "\n",
    "expression = 'not A or B and C'\n",
    "\n",
    "vars = [var for var in sorted(set(expression.split())) if var.isupper()]\n",
    "\n",
    "print(*[v for v in vars], 'F')\n",
    "\n",
    "for row in product([False, True], repeat=len(vars)):\n",
    "    export = {key: value for key, value in zip(vars, row)}\n",
    "    print(*[int(v) for v in row], int(eval(expression, export)))\n"
   ]
  },
  {
   "cell_type": "markdown",
   "id": "1012cf7c",
   "metadata": {},
   "source": [
    "### Задача T"
   ]
  },
  {
   "cell_type": "markdown",
   "id": "3e51b7d0",
   "metadata": {},
   "source": []
  },
  {
   "cell_type": "markdown",
   "id": "ac3cfccb",
   "metadata": {},
   "source": []
  },
  {
   "cell_type": "code",
   "execution_count": null,
   "id": "dcd97b4f",
   "metadata": {},
   "outputs": [],
   "source": []
  },
  {
   "cell_type": "code",
   "execution_count": null,
   "id": "9d3fe6b9",
   "metadata": {},
   "outputs": [],
   "source": []
  },
  {
   "cell_type": "code",
   "execution_count": null,
   "id": "7e10a8cc",
   "metadata": {},
   "outputs": [],
   "source": []
  },
  {
   "cell_type": "code",
   "execution_count": null,
   "id": "3461f3f3",
   "metadata": {},
   "outputs": [],
   "source": []
  }
 ],
 "metadata": {
  "kernelspec": {
   "display_name": "base",
   "language": "python",
   "name": "python3"
  },
  "language_info": {
   "codemirror_mode": {
    "name": "ipython",
    "version": 3
   },
   "file_extension": ".py",
   "mimetype": "text/x-python",
   "name": "python",
   "nbconvert_exporter": "python",
   "pygments_lexer": "ipython3",
   "version": "3.12.4"
  }
 },
 "nbformat": 4,
 "nbformat_minor": 5
}
