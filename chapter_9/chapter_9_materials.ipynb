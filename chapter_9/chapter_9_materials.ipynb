{
 "cells": [
  {
   "cell_type": "code",
   "execution_count": 8,
   "id": "df532474",
   "metadata": {},
   "outputs": [],
   "source": [
    "def final_prices(*prices: int|float|list|tuple, discount=1) -> list:\n",
    "    return [price - price * discount / 100 for price in prices]"
   ]
  },
  {
   "cell_type": "code",
   "execution_count": 10,
   "id": "f8a667b4",
   "metadata": {},
   "outputs": [
    {
     "data": {
      "text/plain": [
       "[95.0]"
      ]
     },
     "execution_count": 10,
     "metadata": {},
     "output_type": "execute_result"
    }
   ],
   "source": [
    "final_prices(100, discount=5)"
   ]
  },
  {
   "cell_type": "code",
   "execution_count": 19,
   "id": "30830afe",
   "metadata": {},
   "outputs": [],
   "source": [
    "def final_prices(*prices, discount=1, **kwargs):\n",
    "    low = kwargs.get('price_low', min(prices))\n",
    "    high = kwargs.get('prices_high', max(prices))\n",
    "    return [price - price * discount / 100 for price in prices if low <= price <= high]"
   ]
  },
  {
   "cell_type": "code",
   "execution_count": 22,
   "id": "529df84a",
   "metadata": {},
   "outputs": [
    {
     "name": "stdout",
     "output_type": "stream",
     "text": [
      "[95.0, 190.0, 285.0, 380.0]\n",
      "[190.0, 285.0, 380.0]\n"
     ]
    }
   ],
   "source": [
    "print(final_prices(100, 200, 300, 400, discount=5))\n",
    "print(final_prices(100, 200, 300, 400, discount=5, price_low = 150))"
   ]
  },
  {
   "cell_type": "code",
   "execution_count": 25,
   "id": "51ee8b27",
   "metadata": {},
   "outputs": [
    {
     "name": "stdout",
     "output_type": "stream",
     "text": [
      "2, 3, 4, 10\n"
     ]
    }
   ],
   "source": [
    "def only_pos(x):\n",
    "    return x > 0\n",
    "\n",
    "result = filter(only_pos, [-1, 2, 3, 4, 10, 0])\n",
    "print(\", \".join(str(x) for x in result))"
   ]
  },
  {
   "cell_type": "code",
   "execution_count": 28,
   "id": "2105f02b",
   "metadata": {},
   "outputs": [
    {
     "name": "stdout",
     "output_type": "stream",
     "text": [
      "l, j, f, s, o, j, f, w, s, j\n"
     ]
    }
   ],
   "source": [
    "result = filter(str.isalpha, \"1ljfso8jfws38j\")\n",
    "print(', '.join(result))"
   ]
  },
  {
   "cell_type": "code",
   "execution_count": 32,
   "id": "d95af386",
   "metadata": {},
   "outputs": [
    {
     "name": "stdout",
     "output_type": "stream",
     "text": [
      "0, 1, 4, 9, 16\n"
     ]
    }
   ],
   "source": [
    "def square(x):\n",
    "    return x ** 2\n",
    "\n",
    "result = map(square, range(5))\n",
    "print(\", \".join(str(x) for x in result))"
   ]
  },
  {
   "cell_type": "code",
   "execution_count": 35,
   "id": "9471563a",
   "metadata": {},
   "outputs": [
    {
     "name": "stdout",
     "output_type": "stream",
     "text": [
      "asdf8ljif\n",
      "faasfe;ijiidjji\n"
     ]
    }
   ],
   "source": [
    "result = map(str.lower, ['asdf8LJIF', \"faasfe;iJIIDjjI\"])\n",
    "print(\"\\n\".join(result))"
   ]
  },
  {
   "cell_type": "code",
   "execution_count": 38,
   "id": "56c43722",
   "metadata": {},
   "outputs": [
    {
     "data": {
      "text/plain": [
       "[2, 3, 4, 5, 6]"
      ]
     },
     "execution_count": 38,
     "metadata": {},
     "output_type": "execute_result"
    }
   ],
   "source": [
    "numbers = list(map(int, input().split()))\n",
    "numbers"
   ]
  },
  {
   "cell_type": "code",
   "execution_count": 39,
   "id": "f8c60cd3",
   "metadata": {},
   "outputs": [
    {
     "name": "stdout",
     "output_type": "stream",
     "text": [
      "2, 3, 4, 10, 5, 65\n"
     ]
    }
   ],
   "source": [
    "result = filter(lambda x: x > 0, [-1,2,3,4,10,5,65])\n",
    "print(', '.join(str(x) for x in result))"
   ]
  },
  {
   "cell_type": "code",
   "execution_count": null,
   "id": "783beb58",
   "metadata": {},
   "outputs": [
    {
     "name": "stdout",
     "output_type": "stream",
     "text": [
      "0     Python\n",
      "1      Spark\n",
      "2     Pandas\n",
      "3    Pyspark\n",
      "dtype: object\n"
     ]
    }
   ],
   "source": [
    "import pandas as pd\n",
    "\n",
    "mapping = {1: 'Python', 2: 'Spark', 3: 'Pandas', 4: 'Pyspark'}\n",
    "s = pd.Series([1, 2, 3, 4])\n",
    "result = s.map(mapping)\n",
    "print(result)\n"
   ]
  },
  {
   "cell_type": "code",
   "execution_count": 42,
   "id": "55e2e777",
   "metadata": {},
   "outputs": [
    {
     "name": "stdout",
     "output_type": "stream",
     "text": [
      "['ab', 'abc', 'abcd', 'abcdef']\n"
     ]
    }
   ],
   "source": [
    "lines = [\"abcd\", \"ab\", \"abc\", \"abcdef\"]\n",
    "print(sorted(lines, key=lambda line: len(line)))"
   ]
  },
  {
   "cell_type": "code",
   "execution_count": 47,
   "id": "7cb7f29d",
   "metadata": {},
   "outputs": [
    {
     "name": "stdout",
     "output_type": "stream",
     "text": [
      "ab\n",
      "abcdef\n"
     ]
    }
   ],
   "source": [
    "lines = [\"abcd\", \"ab\", \"abc\", \"abcdef\", \"abcdeh\"]\n",
    "print(min(lines, key=lambda line: len(line)))\n",
    "print(min(lines, key=lambda line: (-len(line), line)))"
   ]
  },
  {
   "cell_type": "code",
   "execution_count": 48,
   "id": "7272df4e",
   "metadata": {},
   "outputs": [
    {
     "name": "stdout",
     "output_type": "stream",
     "text": [
      "15\n"
     ]
    }
   ],
   "source": [
    "from functools import reduce\n",
    "\n",
    "numbers = range(1, 6)\n",
    "print(reduce(lambda x, y: x + y, numbers))"
   ]
  },
  {
   "cell_type": "code",
   "execution_count": 57,
   "id": "4915375f",
   "metadata": {},
   "outputs": [
    {
     "data": {
      "text/plain": [
       "15"
      ]
     },
     "execution_count": 57,
     "metadata": {},
     "output_type": "execute_result"
    }
   ],
   "source": [
    "lst = [1, 2, 3, 4, 5]\n",
    "reduce(lambda x, y: x + y, lst)"
   ]
  },
  {
   "cell_type": "code",
   "execution_count": 53,
   "id": "c304c0b3",
   "metadata": {},
   "outputs": [
    {
     "name": "stdout",
     "output_type": "stream",
     "text": [
      "25\n"
     ]
    }
   ],
   "source": [
    "for x in range(1, 6):\n",
    "    summa += x\n",
    "print(summa)"
   ]
  },
  {
   "cell_type": "code",
   "execution_count": null,
   "id": "b3a2d02b",
   "metadata": {},
   "outputs": [],
   "source": []
  }
 ],
 "metadata": {
  "kernelspec": {
   "display_name": "base",
   "language": "python",
   "name": "python3"
  },
  "language_info": {
   "codemirror_mode": {
    "name": "ipython",
    "version": 3
   },
   "file_extension": ".py",
   "mimetype": "text/x-python",
   "name": "python",
   "nbconvert_exporter": "python",
   "pygments_lexer": "ipython3",
   "version": "3.12.4"
  }
 },
 "nbformat": 4,
 "nbformat_minor": 5
}
