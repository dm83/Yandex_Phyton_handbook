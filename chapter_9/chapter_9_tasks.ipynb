{
 "cells": [
  {
   "cell_type": "markdown",
   "id": "ec385d08",
   "metadata": {},
   "source": [
    "### Задача A: Генератор списков"
   ]
  },
  {
   "cell_type": "code",
   "execution_count": 4,
   "id": "aded632f",
   "metadata": {},
   "outputs": [
    {
     "name": "stdout",
     "output_type": "stream",
     "text": [
      "[0, 0, 0]\n",
      "[1, 1, 1, 1, 1]\n"
     ]
    }
   ],
   "source": [
    "def make_list(length, value=0):\n",
    "    return [value] * length\n",
    "\n",
    "print(make_list(3))\n",
    "print(make_list(5, 1))"
   ]
  },
  {
   "cell_type": "markdown",
   "id": "28246795",
   "metadata": {},
   "source": [
    "### Задача B: Генератор матриц"
   ]
  },
  {
   "cell_type": "code",
   "execution_count": 21,
   "id": "dcfdeb2c",
   "metadata": {},
   "outputs": [
    {
     "name": "stdout",
     "output_type": "stream",
     "text": [
      "[[0, 0, 0], [0, 0, 0], [0, 0, 0]]\n",
      "[[1, 1, 1, 1], [1, 1, 1, 1]]\n"
     ]
    }
   ],
   "source": [
    "def make_matrix(size, value=0):\n",
    "    if isinstance(size, int):\n",
    "        return [[value] * size] * size\n",
    "    if isinstance(size, tuple):\n",
    "        col, row = size\n",
    "        return [[value] * col] * row\n",
    "\n",
    "print(make_matrix(3))\n",
    "print(make_matrix((4, 2), 1))"
   ]
  },
  {
   "cell_type": "markdown",
   "id": "487def99",
   "metadata": {},
   "source": [
    "Решение с сайта"
   ]
  },
  {
   "cell_type": "code",
   "execution_count": null,
   "id": "80537d9d",
   "metadata": {},
   "outputs": [
    {
     "name": "stdout",
     "output_type": "stream",
     "text": [
      "[[0, 0, 0], [0, 0, 0], [0, 0, 0]]\n",
      "[[1, 1, 1, 1], [1, 1, 1, 1]]\n"
     ]
    }
   ],
   "source": [
    "def make_matrix(size, value=0):\n",
    "    if isinstance(size, int):\n",
    "        size = [size, size]\n",
    "    result = [[value] * size[0] for _ in range(size[1])]\n",
    "    return result\n",
    "    \n",
    "print(make_matrix(3))\n",
    "print(make_matrix((4, 2), 1))"
   ]
  },
  {
   "cell_type": "markdown",
   "id": "057b421b",
   "metadata": {},
   "source": [
    "### Задача C: Функциональный нод 2.0"
   ]
  },
  {
   "cell_type": "code",
   "execution_count": 28,
   "id": "4567802e",
   "metadata": {},
   "outputs": [
    {
     "data": {
      "text/plain": [
       "12"
      ]
     },
     "execution_count": 28,
     "metadata": {},
     "output_type": "execute_result"
    }
   ],
   "source": [
    "def gcd(*values):\n",
    "    numbers = list(values)\n",
    "    while len(numbers) > 1:\n",
    "        while numbers[1]:\n",
    "            numbers[0], numbers[1] = numbers[1], numbers[0] % numbers[1]\n",
    "        numbers.pop(1)\n",
    "    return numbers[0]\n",
    "        \n",
    "\n",
    "\n",
    "result = gcd(36, 48, 156, 100500)\n",
    "result"
   ]
  },
  {
   "cell_type": "markdown",
   "id": "0311512c",
   "metadata": {},
   "source": [
    "### Задача D: Имя of the month 2.0"
   ]
  },
  {
   "cell_type": "code",
   "execution_count": null,
   "id": "8a4b8555",
   "metadata": {},
   "outputs": [
    {
     "name": "stdout",
     "output_type": "stream",
     "text": [
      "January\n",
      "Июль\n"
     ]
    }
   ],
   "source": [
    "def month(num, lang='ru'):\n",
    "    month_ru = [\n",
    "        'Январь', 'Февраль', 'Март', 'Апрель',\n",
    "        'Май', 'Июнь', 'Июль', 'Август', 'Сентябрь',\n",
    "        'Октябрь', 'Ноябрь', 'Декабрь'\n",
    "    ]\n",
    "    month_en = [\n",
    "        'January', 'Febuary', 'March', 'April',\n",
    "        'May', 'June', 'July', 'August', 'September',\n",
    "        'October', 'November', 'December'\n",
    "    ]\n",
    "    if lang == 'en':\n",
    "        return month_en[num - 1]\n",
    "    else:\n",
    "        return month_ru[num - 1]\n",
    "\n",
    "print(month(1, \"en\"))\n",
    "print(month(7))"
   ]
  },
  {
   "cell_type": "markdown",
   "id": "92b85cf8",
   "metadata": {},
   "source": [
    "### Задача E: Подготовка данных"
   ]
  },
  {
   "cell_type": "code",
   "execution_count": 36,
   "id": "62373e99",
   "metadata": {},
   "outputs": [
    {
     "data": {
      "text/plain": [
       "'1 2 3\\n'"
      ]
     },
     "execution_count": 36,
     "metadata": {},
     "output_type": "execute_result"
    }
   ],
   "source": [
    "def to_string(*string, **kwargs):\n",
    "    sep = kwargs.get(\"sep\", ' ')\n",
    "    end = kwargs.get(\"end\", \"\\n\")\n",
    "    string_list = [str(n) for n in string]\n",
    "    out = sep.join(string_list) + end\n",
    "    return out\n",
    "\n",
    "to_string(1, 2, 3)"
   ]
  },
  {
   "cell_type": "markdown",
   "id": "5bd5124e",
   "metadata": {},
   "source": [
    "### Задача"
   ]
  },
  {
   "cell_type": "markdown",
   "id": "be45af63",
   "metadata": {},
   "source": [
    "### Задача F: Кофейня"
   ]
  },
  {
   "cell_type": "code",
   "execution_count": null,
   "id": "ef92683b",
   "metadata": {},
   "outputs": [
    {
     "name": "stdout",
     "output_type": "stream",
     "text": [
      "Эспрессо\n",
      "К сожалению, не можем предложить Вам напиток\n"
     ]
    }
   ],
   "source": [
    "RECIPES = {\n",
    "    'Эспрессо': {'coffee': 1},\n",
    "    'Капучино': {\"coffee\": 1, \"milk\": 3},\n",
    "    'Макиато': {\"coffee\": 2, \"milk\": 1},\n",
    "    'Кофе по-венски': {\"coffee\": 1, \"cream\": 2},\n",
    "    'Латте Макиато': {\"coffee\": 1, \"milk\": 2, \"cream\": 1},\n",
    "    'Кон Панна': {\"coffee\": 1, \"cream\": 1}\n",
    "}\n",
    "\n",
    "in_stock = {}\n",
    "\n",
    "\n",
    "def order(*drinks):\n",
    "    global in_stock, RECIPES\n",
    "\n",
    "    for drink in drinks:\n",
    "        if all(RECIPES[drink][ingredient] <= in_stock[ingredient] for ingredient in RECIPES[drink]):\n",
    "            for ingredient, amount in RECIPES[drink].items():\n",
    "                in_stock[ingredient] -= amount\n",
    "            return drink\n",
    "\n",
    "    return \"К сожалению, не можем предложить Вам напиток\""
   ]
  },
  {
   "cell_type": "markdown",
   "id": "1a325d77",
   "metadata": {},
   "source": [
    "### Задача G: В эфире рубрика «Эксперименты»"
   ]
  },
  {
   "cell_type": "markdown",
   "id": "1de497c1",
   "metadata": {},
   "source": [
    "Мое решение, не проходит тест по причине того что классификатор четных и нечетных чисел не устраивает тренажер (по мне так мое решение верное)"
   ]
  },
  {
   "cell_type": "code",
   "execution_count": null,
   "id": "63ae81e4",
   "metadata": {},
   "outputs": [
    {
     "name": "stdout",
     "output_type": "stream",
     "text": [
      "(9, 14) (3.0, 4.0)\n",
      "(10, 16) (2.5, 3.5)\n"
     ]
    }
   ],
   "source": [
    "history = []\n",
    "\n",
    "\n",
    "def enter_results(*values):\n",
    "    history.extend(list(values))\n",
    "    \n",
    "\n",
    "def get_sum():\n",
    "    global history\n",
    "    num_even = [n for n in history if n % 2 == 0]\n",
    "    num_odd = [n for n in history if n % 2 != 0]\n",
    "    return (round(sum(num_odd), 2), round(sum(num_even), 2))\n",
    "\n",
    "\n",
    "def get_average():\n",
    "    global history\n",
    "    num_even = [n for n in history if n % 2 == 0]\n",
    "    num_odd = [n for n in history if n % 2 != 0]\n",
    "    avg_odd = round(sum(num_odd) / len(num_odd), 2) if num_odd else None\n",
    "    avg_even = round(sum(num_even) / len(num_even), 2) if num_even else None\n",
    "    return (avg_odd, avg_even)\n",
    "\n",
    "enter_results(1, 2, 3, 4, 5, 6)\n",
    "print(get_sum(), get_average())\n",
    "enter_results(1, 2)\n",
    "print(get_sum(), get_average())"
   ]
  },
  {
   "cell_type": "markdown",
   "id": "f55a2104",
   "metadata": {},
   "source": [
    "Решение с сайта"
   ]
  },
  {
   "cell_type": "code",
   "execution_count": null,
   "id": "a8d2851c",
   "metadata": {},
   "outputs": [],
   "source": [
    "data = []\n",
    "odds = []\n",
    "evens = []\n",
    "\n",
    "\n",
    "def enter_results(*numbers):\n",
    "    global data, odds, evens\n",
    "    data.extend(list(numbers))\n",
    "    odds = data[::2]\n",
    "    evens = data[1::2]\n",
    "\n",
    "\n",
    "def get_sum():\n",
    "    return round(sum(odds), 2), round(sum(evens), 2)\n",
    "\n",
    "\n",
    "def get_average():\n",
    "    return round(sum(odds) / len(odds), 2), round(sum(evens) / len(evens), 2)\n"
   ]
  },
  {
   "cell_type": "markdown",
   "id": "7e8b9b5b",
   "metadata": {},
   "source": [
    "### Задача H: Длинная сортировка"
   ]
  },
  {
   "cell_type": "code",
   "execution_count": 80,
   "id": "d80f84d5",
   "metadata": {},
   "outputs": [
    {
     "data": {
      "text/plain": [
       "(43, 'яндекс использует python во многих проектах')"
      ]
     },
     "execution_count": 80,
     "metadata": {},
     "output_type": "execute_result"
    }
   ],
   "source": [
    "string = 'Яндекс использует Python во многих проектах'\n",
    "def crt(word):\n",
    "    return len(word), word.lower()\n",
    "\n",
    "crt(string)"
   ]
  },
  {
   "cell_type": "code",
   "execution_count": 87,
   "id": "50e0c1b7",
   "metadata": {},
   "outputs": [
    {
     "name": "stdout",
     "output_type": "stream",
     "text": [
      "['во', 'Яндекс', 'Python', 'многих', 'проектах', 'использует']\n",
      "['Python', 'во', 'использует', 'многих', 'проектах', 'Яндекс']\n",
      "['во', 'Python', 'многих', 'Яндекс', 'проектах', 'использует']\n",
      "['во', 'Python', 'многих', 'Яндекс', 'проектах', 'использует']\n"
     ]
    }
   ],
   "source": [
    "string = 'мама мыла раму'\n",
    "string = 'Яндекс использует Python во многих проектах'\n",
    "print(sorted(string.split(), key=lambda s: (len(s))))\n",
    "print(sorted(string.split(), key=lambda s: (s.lower())))\n",
    "print(sorted(string.split(), key=lambda s: (len(s), s.lower())))\n",
    "print(sorted(string.split(), key=lambda s: (len(s), s.upper())))\n"
   ]
  },
  {
   "cell_type": "markdown",
   "id": "472420fa",
   "metadata": {},
   "source": [
    "### Задача I: Четная фильтрация"
   ]
  },
  {
   "cell_type": "code",
   "execution_count": 104,
   "id": "7a72665a",
   "metadata": {},
   "outputs": [
    {
     "name": "stdout",
     "output_type": "stream",
     "text": [
      "64 512\n"
     ]
    }
   ],
   "source": [
    "print(*filter(lambda n: sum(map(int, list(str(n)))) % 2 == 0, (32, 64, 128, 256, 512)))"
   ]
  },
  {
   "cell_type": "markdown",
   "id": "7c7f5886",
   "metadata": {},
   "source": [
    "Сравнение скорости кода моего и с сайта:"
   ]
  },
  {
   "cell_type": "code",
   "execution_count": 109,
   "id": "b90ab59f",
   "metadata": {},
   "outputs": [
    {
     "name": "stdout",
     "output_type": "stream",
     "text": [
      "64 512\n",
      "64 512\n",
      "64 512\n",
      "64 512\n",
      "64 512\n",
      "64 512\n",
      "64 512\n",
      "64 512\n",
      "64 512\n",
      "64 512\n",
      "Среднее время выполнения: 1.713000237941742e-05 секунд\n"
     ]
    }
   ],
   "source": [
    "import timeit\n",
    "\n",
    "code_to_test = \"\"\"\n",
    "print(*filter(lambda n: sum(map(int, list(str(n)))) % 2 == 0, (32, 64, 128, 256, 512)))\n",
    "\"\"\"\n",
    "\n",
    "elapsed_time = timeit.timeit(code_to_test, number=10)/10\n",
    "print('Среднее время выполнения:', elapsed_time, 'секунд')\n"
   ]
  },
  {
   "cell_type": "code",
   "execution_count": 110,
   "id": "35b3251c",
   "metadata": {},
   "outputs": [
    {
     "name": "stdout",
     "output_type": "stream",
     "text": [
      "64 512\n",
      "64 512\n",
      "64 512\n",
      "64 512\n",
      "64 512\n",
      "64 512\n",
      "64 512\n",
      "64 512\n",
      "64 512\n",
      "64 512\n",
      "Среднее время выполнения: 2.084001898765564e-05 секунд\n"
     ]
    }
   ],
   "source": [
    "code_to_test = \"\"\"\n",
    "print(*filter(lambda c: (sum(int(x) for x in str(c)) % 2 == 0), (32, 64, 128, 256, 512)))\n",
    "\"\"\"\n",
    "\n",
    "elapsed_time = timeit.timeit(code_to_test, number=10)/10\n",
    "print('Среднее время выполнения:', elapsed_time, 'секунд')"
   ]
  },
  {
   "cell_type": "markdown",
   "id": "2412f424",
   "metadata": {},
   "source": [
    "Задача J: Секрет шифрования (решение с сайта)"
   ]
  },
  {
   "cell_type": "code",
   "execution_count": 111,
   "id": "90622d5c",
   "metadata": {},
   "outputs": [
    {
     "data": {
      "text/plain": [
       "'Hehiy123, wzrhid!'"
      ]
     },
     "execution_count": 111,
     "metadata": {},
     "output_type": "execute_result"
    }
   ],
   "source": [
    "def secret_replace(text, **secrets):\n",
    "    new_text = ''\n",
    "    secrets = {key: [value, 0] for key, value in secrets.items()}\n",
    "    for char in text:\n",
    "        if char in secrets:\n",
    "            pos = secrets[char][1] % len(secrets[char][0])\n",
    "            new_text += secrets[char][0][pos]\n",
    "            secrets[char] = [secrets[char][0], pos + 1]\n",
    "        else:\n",
    "            new_text += char\n",
    "    return new_text\n",
    "\n",
    "secret_replace(\"Hello, world!\", l=(\"hi\", \"y\"), o=(\"123\", \"z\"))"
   ]
  }
 ],
 "metadata": {
  "kernelspec": {
   "display_name": "base",
   "language": "python",
   "name": "python3"
  },
  "language_info": {
   "codemirror_mode": {
    "name": "ipython",
    "version": 3
   },
   "file_extension": ".py",
   "mimetype": "text/x-python",
   "name": "python",
   "nbconvert_exporter": "python",
   "pygments_lexer": "ipython3",
   "version": "3.12.4"
  }
 },
 "nbformat": 4,
 "nbformat_minor": 5
}
