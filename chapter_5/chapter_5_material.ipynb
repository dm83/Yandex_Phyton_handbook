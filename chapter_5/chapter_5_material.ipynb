{
 "cells": [
  {
   "cell_type": "markdown",
   "id": "3f5878bc",
   "metadata": {},
   "source": [
    "# Теория для главы 3.3"
   ]
  },
  {
   "cell_type": "markdown",
   "id": "fa608b81",
   "metadata": {},
   "source": [
    "### Списочные выражения"
   ]
  },
  {
   "cell_type": "code",
   "execution_count": null,
   "id": "9654aae9",
   "metadata": {},
   "outputs": [],
   "source": [
    "numbers = [int(input()) for i in range(5)]\n",
    "avg = numbers // len(numbers)\n",
    "numbers = [element for element in numbers if element > avg]\n",
    "print(numbers)"
   ]
  },
  {
   "cell_type": "code",
   "execution_count": null,
   "id": "dc652386",
   "metadata": {},
   "outputs": [
    {
     "name": "stdout",
     "output_type": "stream",
     "text": [
      "20.0 30.5 15.25 "
     ]
    }
   ],
   "source": [
    "import numpy as np\n",
    "\n",
    "string = '1,2,33,44|12,23,43,44|1,2,3,55'\n",
    "#list_of_list = [x for x in string.split('|')]\n",
    "string.split('|')\n",
    "list_of_list = []\n",
    "for i in string.split('|'):\n",
    "    lst = []\n",
    "    for j in i.split(','):\n",
    "        lst.append(int(j))\n",
    "    list_of_list.append(lst)\n",
    "\n",
    "list_of_list\n",
    "for i in list_of_list:\n",
    "    print(np.mean(i), end=' ')"
   ]
  },
  {
   "cell_type": "code",
   "execution_count": 41,
   "id": "cb155506",
   "metadata": {},
   "outputs": [
    {
     "name": "stdout",
     "output_type": "stream",
     "text": [
      "{'Andrey': 20.0, 'Denis': 30.5, 'Karl': 15.25}\n",
      "{'Denis': 30.5, 'Andrey': 20.0, 'Karl': 15.25}\n",
      "\n",
      "Имена где value > 18\n",
      "Denis\n",
      "Andrey\n"
     ]
    }
   ],
   "source": [
    "list_of_list = [list([int(x) for x in group.split(',')]) for group in string.split('|')]\n",
    "means = [np.mean(x) for x in list_of_list]\n",
    "means\n",
    "names = ['Andrey', 'Denis', 'Karl']\n",
    "\n",
    "my_dict = {}\n",
    "for names, means in zip(names, means):\n",
    "    my_dict[names] = means\n",
    "\n",
    "# сортировка по ключу\n",
    "my_dict = dict(sorted(my_dict.items()))\n",
    "print(my_dict)\n",
    "\n",
    "# сортировка по значениям\n",
    "my_dict = dict(sorted(my_dict.items(), key=lambda item: item[1], reverse=True))\n",
    "print(my_dict)\n",
    "\n",
    "level = 18\n",
    "print(f\"\\nИмена где value > {level}\")\n",
    "for n, v in my_dict.items():\n",
    "    if v > level:\n",
    "        print(n)"
   ]
  },
  {
   "cell_type": "code",
   "execution_count": 51,
   "id": "6c0cd08b",
   "metadata": {},
   "outputs": [
    {
     "name": "stdout",
     "output_type": "stream",
     "text": [
      "[[0, 0, 0, 0, 0], [0, 0, 0, 0, 0], [0, 0, 0, 0, 0], [0, 0, 0, 0, 0], [0, 0, 0, 0, 0]]\n",
      "[[1, 0, 0, 0, 0], [1, 0, 0, 0, 0], [1, 0, 0, 0, 0], [1, 0, 0, 0, 0], [1, 0, 0, 0, 0]]\n"
     ]
    }
   ],
   "source": [
    "zeros = [[0]*5]*5\n",
    "print(zeros)\n",
    "zeros[0][0] = 1\n",
    "print(zeros)"
   ]
  },
  {
   "cell_type": "code",
   "execution_count": 54,
   "id": "47fe91dc",
   "metadata": {},
   "outputs": [
    {
     "name": "stdout",
     "output_type": "stream",
     "text": [
      "[[0, 0, 0, 0, 0], [0, 0, 0, 0, 0], [0, 0, 0, 0, 0], [0, 0, 0, 0, 0], [0, 0, 0, 0, 0]]\n"
     ]
    }
   ],
   "source": [
    "zeros = [[0] * 5 for i in range(5)]\n",
    "print(zeros)\n",
    "zeros[0][0] = 1"
   ]
  },
  {
   "cell_type": "code",
   "execution_count": 55,
   "id": "c206cd76",
   "metadata": {},
   "outputs": [
    {
     "name": "stdout",
     "output_type": "stream",
     "text": [
      "[1057, 1090, 1088, 1086, 1082, 1072, 32, 1089, 1080, 1084, 1074, 1086, 1083, 1086, 1074]\n"
     ]
    }
   ],
   "source": [
    "text = 'Строка символов'\n",
    "codes = [ord(symbol) for symbol in text]\n",
    "print(codes)"
   ]
  },
  {
   "cell_type": "code",
   "execution_count": 92,
   "id": "c130d1bc",
   "metadata": {},
   "outputs": [
    {
     "data": {
      "text/plain": [
       "['Беларусь', 'Бельгия']"
      ]
     },
     "execution_count": 92,
     "metadata": {},
     "output_type": "execute_result"
    }
   ],
   "source": [
    "countries = {\"Россия\": [\"русский\"],\n",
    "             \"Беларусь\": [\"белорусский\", \"русский\"],\n",
    "             \"Бельгия\": [\"немецкий\", \"французский\", \"нидерландский\"],\n",
    "             \"Вьетнам\": [\"вьетнамский\"]}\n",
    "\n",
    "multiple_lang = [country for (country, lang) in countries.items() if len(lang) > 1]\n",
    "multiple_lang"
   ]
  },
  {
   "cell_type": "code",
   "execution_count": 84,
   "id": "990247b0",
   "metadata": {},
   "outputs": [
    {
     "name": "stdout",
     "output_type": "stream",
     "text": [
      "{'Беларусь': 'Минск', 'Россия': 'Москва', 'Сербия': 'Белград'}\n",
      "{'Сербия': 'Белград', 'Беларусь': 'Минск', 'Россия': 'Москва'}\n"
     ]
    }
   ],
   "source": [
    "list_of_tuple = [(\"Россия\", \"Москва\"), (\"Беларусь\", \"Минск\"), (\"Сербия\", \"Белград\")]\n",
    "\n",
    "countries = {country: capital for country, capital in list_of_tuple}\n",
    "# сортировка по ключу\n",
    "countries = dict(sorted(countries.items()))\n",
    "print(countries)\n",
    "# сортировка по значениям\n",
    "countries = dict(sorted(countries.items(), key=lambda x: x[1]))\n",
    "print(countries)"
   ]
  },
  {
   "cell_type": "code",
   "execution_count": 85,
   "id": "c902dc59",
   "metadata": {},
   "outputs": [
    {
     "data": {
      "text/plain": [
       "<generator object <genexpr> at 0x0000021C4516F440>"
      ]
     },
     "execution_count": 85,
     "metadata": {},
     "output_type": "execute_result"
    }
   ],
   "source": [
    "numbers = (int('5') for i in range(5))\n",
    "numbers"
   ]
  },
  {
   "cell_type": "code",
   "execution_count": 89,
   "id": "09ccea56",
   "metadata": {},
   "outputs": [
    {
     "name": "stdout",
     "output_type": "stream",
     "text": [
      "192 байт\n",
      "8000056 байт\n"
     ]
    }
   ],
   "source": [
    "from sys import getsizeof\n",
    "\n",
    "numbers_iter = (i for i in range(10**6))\n",
    "print(getsizeof(numbers_iter), 'байт')\n",
    "\n",
    "numbers_list = list(range(10**6))\n",
    "print(getsizeof(numbers_list), 'байт')\n",
    "\n"
   ]
  },
  {
   "cell_type": "code",
   "execution_count": 90,
   "id": "6689ea55",
   "metadata": {},
   "outputs": [
    {
     "name": "stdout",
     "output_type": "stream",
     "text": [
      "19.236\n",
      "17.704\n"
     ]
    }
   ],
   "source": [
    "from timeit import timeit\n",
    "\n",
    "print(round(timeit(\"s = '; '.join(str(x) for x in range(10 ** 7))\", number=10), 3))\n",
    "print(round(timeit(\"s = '; '.join([str(x) for x in list(range(10 ** 7))])\", number=10), 3))"
   ]
  },
  {
   "cell_type": "code",
   "execution_count": null,
   "id": "d950505d",
   "metadata": {},
   "outputs": [],
   "source": []
  }
 ],
 "metadata": {
  "kernelspec": {
   "display_name": "base",
   "language": "python",
   "name": "python3"
  },
  "language_info": {
   "codemirror_mode": {
    "name": "ipython",
    "version": 3
   },
   "file_extension": ".py",
   "mimetype": "text/x-python",
   "name": "python",
   "nbconvert_exporter": "python",
   "pygments_lexer": "ipython3",
   "version": "3.12.4"
  }
 },
 "nbformat": 4,
 "nbformat_minor": 5
}
