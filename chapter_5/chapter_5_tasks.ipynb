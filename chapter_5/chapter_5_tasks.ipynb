{
 "cells": [
  {
   "cell_type": "markdown",
   "id": "0c7c8214",
   "metadata": {},
   "source": [
    "### Задача А"
   ]
  },
  {
   "cell_type": "code",
   "execution_count": 6,
   "id": "228563aa",
   "metadata": {},
   "outputs": [
    {
     "data": {
      "text/plain": [
       "[25, 36, 49, 64, 81, 100]"
      ]
     },
     "execution_count": 6,
     "metadata": {},
     "output_type": "execute_result"
    }
   ],
   "source": [
    "a = int('5')\n",
    "b = int('10')\n",
    "[x**2 for x in range(a, b + 1)]"
   ]
  },
  {
   "cell_type": "markdown",
   "id": "f3c76e6e",
   "metadata": {},
   "source": [
    "### Задача B"
   ]
  },
  {
   "cell_type": "code",
   "execution_count": 15,
   "id": "de2c8f8b",
   "metadata": {},
   "outputs": [
    {
     "data": {
      "text/plain": [
       "[[1, 2, 3, 4, 5, 6, 7, 8, 9, 10, 11, 12],\n",
       " [2, 4, 6, 8, 10, 12, 14, 16, 18, 20, 22, 24],\n",
       " [3, 6, 9, 12, 15, 18, 21, 24, 27, 30, 33, 36],\n",
       " [4, 8, 12, 16, 20, 24, 28, 32, 36, 40, 44, 48],\n",
       " [5, 10, 15, 20, 25, 30, 35, 40, 45, 50, 55, 60],\n",
       " [6, 12, 18, 24, 30, 36, 42, 48, 54, 60, 66, 72],\n",
       " [7, 14, 21, 28, 35, 42, 49, 56, 63, 70, 77, 84],\n",
       " [8, 16, 24, 32, 40, 48, 56, 64, 72, 80, 88, 96],\n",
       " [9, 18, 27, 36, 45, 54, 63, 72, 81, 90, 99, 108],\n",
       " [10, 20, 30, 40, 50, 60, 70, 80, 90, 100, 110, 120],\n",
       " [11, 22, 33, 44, 55, 66, 77, 88, 99, 110, 121, 132],\n",
       " [12, 24, 36, 48, 60, 72, 84, 96, 108, 120, 132, 144]]"
      ]
     },
     "execution_count": 15,
     "metadata": {},
     "output_type": "execute_result"
    }
   ],
   "source": [
    "n = 12\n",
    "[[x * k for x in range(1, n + 1)] for k in range(1, n + 1)]"
   ]
  },
  {
   "cell_type": "markdown",
   "id": "dc2fd20a",
   "metadata": {},
   "source": [
    "### Задача С"
   ]
  },
  {
   "cell_type": "code",
   "execution_count": 16,
   "id": "71b35552",
   "metadata": {},
   "outputs": [
    {
     "data": {
      "text/plain": [
       "[4, 4, 4]"
      ]
     },
     "execution_count": 16,
     "metadata": {},
     "output_type": "execute_result"
    }
   ],
   "source": [
    "sentence = 'Мама мыла раму'\n",
    "[len(word) for word in sentence.split(' ')]"
   ]
  },
  {
   "cell_type": "markdown",
   "id": "9a4b87a7",
   "metadata": {},
   "source": [
    "### Задача D"
   ]
  },
  {
   "cell_type": "code",
   "execution_count": 20,
   "id": "c5dde4ce",
   "metadata": {},
   "outputs": [
    {
     "data": {
      "text/plain": [
       "{1, 3, 5, 7}"
      ]
     },
     "execution_count": 20,
     "metadata": {},
     "output_type": "execute_result"
    }
   ],
   "source": [
    "numbers = [1, 2, 3, 7, 3, 4, 5]\n",
    "{number for number in numbers if number % 2 != 0}"
   ]
  },
  {
   "cell_type": "markdown",
   "id": "0aee127b",
   "metadata": {},
   "source": [
    "### Задача E"
   ]
  },
  {
   "cell_type": "code",
   "execution_count": 34,
   "id": "5b775a9f",
   "metadata": {},
   "outputs": [
    {
     "data": {
      "text/plain": [
       "{16, 36, 64}"
      ]
     },
     "execution_count": 34,
     "metadata": {},
     "output_type": "execute_result"
    }
   ],
   "source": [
    "numbers = [1, 2, 3, 4, 5]\n",
    "numbers = [number for number in range(16, 100, 4)]\n",
    "{n for n in numbers if (n**0.5 - int(n**0.5)) == 0}"
   ]
  },
  {
   "cell_type": "markdown",
   "id": "35f5268e",
   "metadata": {},
   "source": [
    "### Задача F"
   ]
  },
  {
   "cell_type": "code",
   "execution_count": 49,
   "id": "0166888b",
   "metadata": {},
   "outputs": [
    {
     "data": {
      "text/plain": [
       "{'м': 4, 'а': 4, ' ': 2, 'ы': 1, 'л': 1, 'р': 1, 'у': 1, '!': 1}"
      ]
     },
     "execution_count": 49,
     "metadata": {},
     "output_type": "execute_result"
    }
   ],
   "source": [
    "text = 'Мама мыла раму!'\n",
    "dict = {}\n",
    "for char in text.lower():\n",
    "    dict[char] = dict.get(char, 0) + 1\n",
    "dict"
   ]
  },
  {
   "cell_type": "code",
   "execution_count": 70,
   "id": "05561dc6",
   "metadata": {},
   "outputs": [
    {
     "data": {
      "text/plain": [
       "{'м': 4, 'а': 4, 'л': 1, 'р': 1, 'ы': 1, 'у': 1}"
      ]
     },
     "execution_count": 70,
     "metadata": {},
     "output_type": "execute_result"
    }
   ],
   "source": [
    "text = 'Мама мыла раму!'\n",
    "{char: text.lower().count(char) for char in set(text.lower()) if char.isalpha()}"
   ]
  },
  {
   "cell_type": "markdown",
   "id": "a07b54e7",
   "metadata": {},
   "source": [
    "### Задача G"
   ]
  },
  {
   "cell_type": "code",
   "execution_count": null,
   "id": "517771ee",
   "metadata": {},
   "outputs": [
    {
     "data": {
      "text/plain": [
       "{1: [1], 2: [1, 2], 3: [1, 3], 4: [1, 2, 4], 5: [1, 5]}"
      ]
     },
     "execution_count": 72,
     "metadata": {},
     "output_type": "execute_result"
    }
   ],
   "source": [
    "numbers = {1, 2, 3, 4, 5}\n",
    "{num: [d for d in range(1, num + 1) if num % d == 0] for num in numbers}"
   ]
  },
  {
   "cell_type": "markdown",
   "id": "858644f9",
   "metadata": {},
   "source": [
    "### Задача H"
   ]
  },
  {
   "cell_type": "code",
   "execution_count": 92,
   "id": "ec42d103",
   "metadata": {},
   "outputs": [
    {
     "data": {
      "text/plain": [
       "'ОАО'"
      ]
     },
     "execution_count": 92,
     "metadata": {},
     "output_type": "execute_result"
    }
   ],
   "source": [
    "string = 'Российская Федерация'\n",
    "string = 'открытое акционерное общество'\n",
    "''.join([word[0].capitalize() for word in string.split(' ')])"
   ]
  },
  {
   "cell_type": "markdown",
   "id": "2d4c54e4",
   "metadata": {},
   "source": [
    "### Задача I"
   ]
  },
  {
   "cell_type": "code",
   "execution_count": 120,
   "id": "2d038efa",
   "metadata": {},
   "outputs": [
    {
     "data": {
      "text/plain": [
       "'1 - 2 - 3 - 4 - 6 - 7 - 10'"
      ]
     },
     "execution_count": 120,
     "metadata": {},
     "output_type": "execute_result"
    }
   ],
   "source": [
    "numbers = [3, 1, 2, 3, 2, 2, 1]\n",
    "numbers = [1, 1, 3, 1, 10, 2, 4, 6, 7, 1, 2, 7]\n",
    "' - '.join([str(num) for num in sorted([n for n in set(numbers)])])"
   ]
  },
  {
   "cell_type": "markdown",
   "id": "543ebce0",
   "metadata": {},
   "source": [
    "### Задача J"
   ]
  },
  {
   "cell_type": "code",
   "execution_count": null,
   "id": "0cd045a5",
   "metadata": {},
   "outputs": [
    {
     "data": {
      "text/plain": [
       "'aabbbc'"
      ]
     },
     "execution_count": 136,
     "metadata": {},
     "output_type": "execute_result"
    }
   ],
   "source": [
    "rle = [('a', 2), ('b', 3), ('c', 1)]\n",
    "''.join([t * v for t, v in rle])"
   ]
  }
 ],
 "metadata": {
  "kernelspec": {
   "display_name": "base",
   "language": "python",
   "name": "python3"
  },
  "language_info": {
   "codemirror_mode": {
    "name": "ipython",
    "version": 3
   },
   "file_extension": ".py",
   "mimetype": "text/x-python",
   "name": "python",
   "nbconvert_exporter": "python",
   "pygments_lexer": "ipython3",
   "version": "3.12.4"
  }
 },
 "nbformat": 4,
 "nbformat_minor": 5
}
