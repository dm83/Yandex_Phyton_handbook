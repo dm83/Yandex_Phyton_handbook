{
 "cells": [
  {
   "cell_type": "markdown",
   "id": "c9df4761",
   "metadata": {},
   "source": [
    "### Задача A: Функциональное приветствие"
   ]
  },
  {
   "cell_type": "code",
   "execution_count": 1,
   "id": "c9b63382",
   "metadata": {},
   "outputs": [
    {
     "name": "stdout",
     "output_type": "stream",
     "text": [
      "Hello, world!\n"
     ]
    }
   ],
   "source": [
    "name = \"world\"\n",
    "\n",
    "def print_hello(name):\n",
    "    print(f'Hello, {name}!')\n",
    "\n",
    "print_hello(name)"
   ]
  },
  {
   "cell_type": "markdown",
   "id": "839b878f",
   "metadata": {},
   "source": [
    "### Задача B: Функциональный НОД"
   ]
  },
  {
   "cell_type": "code",
   "execution_count": 4,
   "id": "a6d5eba2",
   "metadata": {},
   "outputs": [
    {
     "data": {
      "text/plain": [
       "3"
      ]
     },
     "execution_count": 4,
     "metadata": {},
     "output_type": "execute_result"
    }
   ],
   "source": [
    "def gcd(a, b):\n",
    "    while b:\n",
    "        a, b = b, a % b\n",
    "    return a\n",
    "\n",
    "result = gcd(12, 45)\n",
    "result\n"
   ]
  },
  {
   "cell_type": "markdown",
   "id": "92d3eaca",
   "metadata": {},
   "source": [
    "### Задача C: Длина числа"
   ]
  },
  {
   "cell_type": "code",
   "execution_count": 7,
   "id": "302d1cf3",
   "metadata": {},
   "outputs": [
    {
     "data": {
      "text/plain": [
       "5"
      ]
     },
     "execution_count": 7,
     "metadata": {},
     "output_type": "execute_result"
    }
   ],
   "source": [
    "def number_length(number):\n",
    "    return len(str(abs(number)))\n",
    "\n",
    "result = number_length(12345)\n",
    "result"
   ]
  },
  {
   "cell_type": "markdown",
   "id": "562eb6f2",
   "metadata": {},
   "source": [
    "### Задача D: Имя of the month"
   ]
  },
  {
   "cell_type": "markdown",
   "id": "892a8574",
   "metadata": {},
   "source": [
    "Мое решение, выдает ошибку на дальних примерах (непонятно что не нравится)"
   ]
  },
  {
   "cell_type": "code",
   "execution_count": null,
   "id": "ef2adb80",
   "metadata": {},
   "outputs": [
    {
     "data": {
      "text/plain": [
       "'Январь'"
      ]
     },
     "execution_count": 9,
     "metadata": {},
     "output_type": "execute_result"
    }
   ],
   "source": [
    "def month(num, lang):\n",
    "    data = {\n",
    "        1: ['Январь', 'January'],\n",
    "        2: ['Февраль', 'Fabuary'],\n",
    "        3: ['Март', 'March'],\n",
    "        4: ['Апрель', 'April'],\n",
    "        5: ['Май', 'May'],\n",
    "        6: ['Июнь', 'June'],\n",
    "        7: ['Июль', 'July'],\n",
    "        8: ['Август', 'August'],\n",
    "        9: ['Сентябрь', 'September'],\n",
    "        10: ['Октябрь', 'October'],\n",
    "        11: ['Ноябрь', 'November'],\n",
    "        12: ['Декабрь', 'December']\n",
    "    }\n",
    "    if lang == 'ru':\n",
    "        return data[num][0]\n",
    "    elif lang == 'en':\n",
    "        return data[num][1] \n",
    "    else:\n",
    "        pass\n",
    "\n",
    "result = month(1, \"ru\")\n",
    "result"
   ]
  },
  {
   "cell_type": "markdown",
   "id": "412aa6d6",
   "metadata": {},
   "source": [
    "Решение с сайта"
   ]
  },
  {
   "cell_type": "code",
   "execution_count": null,
   "id": "7ce62782",
   "metadata": {},
   "outputs": [],
   "source": [
    "def month(num, lang):\n",
    "    MONTHS = {\n",
    "        'ru': ['Январь', 'Февраль', 'Март', 'Апрель', 'Май', 'Июнь', 'Июль',\n",
    "               'Август', 'Сентябрь', 'Октябрь', 'Ноябрь', 'Декабрь'],\n",
    "        'en': ['January', 'February', 'March', 'April', 'May', 'June', 'July',\n",
    "               'August', 'September', 'October', 'November', 'December']\n",
    "             }\n",
    "\n",
    "    return MONTHS[lang][num - 1]"
   ]
  },
  {
   "cell_type": "markdown",
   "id": "8b5dd7ec",
   "metadata": {},
   "source": [
    "### Задача E: Числовая строка"
   ]
  },
  {
   "cell_type": "code",
   "execution_count": 3,
   "id": "54e6a37d",
   "metadata": {},
   "outputs": [
    {
     "name": "stdout",
     "output_type": "stream",
     "text": [
      "(1, 2, 3, 4, 5)\n",
      "(1, -2, 3, -4, 5)\n"
     ]
    }
   ],
   "source": [
    "def split_numbers(string):\n",
    "    return tuple([int(num) for num in string.split(' ')])\n",
    "        \n",
    "result = split_numbers(\"1 2 3 4 5\")\n",
    "print(result)\n",
    "\n",
    "result = split_numbers(\"1 -2 3 -4 5\")\n",
    "print(result)"
   ]
  },
  {
   "cell_type": "markdown",
   "id": "a1f1efc5",
   "metadata": {},
   "source": [
    "### Задача F"
   ]
  },
  {
   "cell_type": "code",
   "execution_count": 8,
   "id": "a92931ae",
   "metadata": {},
   "outputs": [
    {
     "data": {
      "text/plain": [
       "str"
      ]
     },
     "execution_count": 8,
     "metadata": {},
     "output_type": "execute_result"
    }
   ],
   "source": [
    "def test(input: str) -> str:\n",
    "    global x\n",
    "    x = str\n",
    "    return x\n",
    "\n",
    "test('hello!')\n",
    "x"
   ]
  },
  {
   "cell_type": "code",
   "execution_count": 9,
   "id": "b8ab60bc",
   "metadata": {},
   "outputs": [
    {
     "data": {
      "text/plain": [
       "str"
      ]
     },
     "execution_count": 9,
     "metadata": {},
     "output_type": "execute_result"
    }
   ],
   "source": [
    "x"
   ]
  },
  {
   "cell_type": "code",
   "execution_count": 15,
   "id": "a4ba1f53",
   "metadata": {},
   "outputs": [
    {
     "name": "stdout",
     "output_type": "stream",
     "text": [
      "Hello!\n",
      "How do you do?\n"
     ]
    }
   ],
   "source": [
    "\n",
    "def modern_print(string: str) -> str:\n",
    "    if not hasattr(modern_print, 'printed'):\n",
    "        modern_print.printed = set()\n",
    "    if string in modern_print.printed:\n",
    "        pass\n",
    "    else:\n",
    "        modern_print.printed.add(string)\n",
    "        print(string)\n",
    "\n",
    "modern_print(\"Hello!\")\n",
    "modern_print(\"Hello!\")\n",
    "modern_print(\"How do you do?\")\n",
    "modern_print(\"Hello!\")"
   ]
  },
  {
   "cell_type": "markdown",
   "id": "dbcfc06d",
   "metadata": {},
   "source": [
    "Решение с сайта"
   ]
  },
  {
   "cell_type": "code",
   "execution_count": 16,
   "id": "2fb51e27",
   "metadata": {},
   "outputs": [
    {
     "name": "stdout",
     "output_type": "stream",
     "text": [
      "Hello!\n",
      "How do you do?\n"
     ]
    }
   ],
   "source": [
    "history = set()\n",
    "\n",
    "\n",
    "def modern_print(string):\n",
    "    if string not in history:\n",
    "        print(string)\n",
    "        history.add(string)\n",
    "\n",
    "modern_print(\"Hello!\")\n",
    "modern_print(\"Hello!\")\n",
    "modern_print(\"How do you do?\")\n",
    "modern_print(\"Hello!\")"
   ]
  },
  {
   "cell_type": "markdown",
   "id": "41645b93",
   "metadata": {},
   "source": [
    "### Задача G: Шахматный «обед»"
   ]
  },
  {
   "cell_type": "code",
   "execution_count": null,
   "id": "54c66cb0",
   "metadata": {},
   "outputs": [],
   "source": [
    "def can_eat(horse, cell):\n",
    "    x = abs(horse[0] - cell[0])\n",
    "    y = abs(horse[1] - cell[1])\n",
    "    return sorted([x, y]) == [1, 2]"
   ]
  },
  {
   "cell_type": "markdown",
   "id": "75c5d6ac",
   "metadata": {},
   "source": [
    "### Задача H: А роза упала на лапу Азора 7.0"
   ]
  },
  {
   "cell_type": "code",
   "execution_count": 36,
   "id": "1b481b71",
   "metadata": {},
   "outputs": [
    {
     "data": {
      "text/plain": [
       "True"
      ]
     },
     "execution_count": 36,
     "metadata": {},
     "output_type": "execute_result"
    }
   ],
   "source": [
    "def is_palindrome(num):\n",
    "    if isinstance(num, (list, tuple)):\n",
    "        string = ''\n",
    "        string = str(string + char for char in num)\n",
    "        if num == num[::-1]:\n",
    "            return True\n",
    "        else:\n",
    "            return False\n",
    "    if isinstance(num, int):\n",
    "        if str(num) == str(num)[::-1]:\n",
    "            return True\n",
    "        else:\n",
    "            return False\n",
    "    if isinstance(num, str):\n",
    "        num = num.lower().replace(' ', '')\n",
    "        if num == num[::-1]:\n",
    "            return True\n",
    "        else:\n",
    "            return False\n",
    "\n",
    "\n",
    "is_palindrome((1, 2, 1))\n",
    "is_palindrome((1, 2, 1))\n",
    "is_palindrome((1, 2, 1))\n",
    "is_palindrome((1, 2, 1))\n",
    "is_palindrome(\"а роза упала на лапу азора\")"
   ]
  },
  {
   "cell_type": "markdown",
   "id": "53307084",
   "metadata": {},
   "source": [
    "### Задача I: Простая задача 5.0"
   ]
  },
  {
   "cell_type": "code",
   "execution_count": 41,
   "id": "1ea8dafe",
   "metadata": {},
   "outputs": [
    {
     "name": "stdout",
     "output_type": "stream",
     "text": [
      "True\n",
      "False\n"
     ]
    }
   ],
   "source": [
    "def is_prime(num: int) -> bool:\n",
    "    if num < 2:\n",
    "        return False\n",
    "    \n",
    "    divider = 2\n",
    "    while divider <= num ** 0.5:\n",
    "        if num % divider == 0:\n",
    "            return False\n",
    "        divider += 1\n",
    "    return True\n",
    "\n",
    "result = is_prime(1001459)\n",
    "print(result)\n",
    "result = is_prime(79701)\n",
    "print(result)"
   ]
  },
  {
   "cell_type": "markdown",
   "id": "928a91ab",
   "metadata": {},
   "source": [
    "### Задача J: Слияние"
   ]
  },
  {
   "cell_type": "code",
   "execution_count": null,
   "id": "73ab27c1",
   "metadata": {},
   "outputs": [],
   "source": [
    "def merge(sequence_1, sequence_2):\n",
    "    queue_1 = list(sequence_1)\n",
    "    queue_2 = list(sequence_2)\n",
    "    sequence = []\n",
    "    while queue_1 and queue_2:\n",
    "        if queue_1[0] > queue_2[0]:\n",
    "            sequence.append(queue_2.pop(0))\n",
    "        else:\n",
    "            sequence.append(queue_1.pop(0))\n",
    "    sequence.extend(queue_1)\n",
    "    sequence.extend(queue_2)\n",
    "    return tuple(sequence)\n",
    "\n",
    "\n",
    "result = merge((1, 2), (3, 4, 5))"
   ]
  }
 ],
 "metadata": {
  "kernelspec": {
   "display_name": "base",
   "language": "python",
   "name": "python3"
  },
  "language_info": {
   "codemirror_mode": {
    "name": "ipython",
    "version": 3
   },
   "file_extension": ".py",
   "mimetype": "text/x-python",
   "name": "python",
   "nbconvert_exporter": "python",
   "pygments_lexer": "ipython3",
   "version": "3.12.4"
  }
 },
 "nbformat": 4,
 "nbformat_minor": 5
}
