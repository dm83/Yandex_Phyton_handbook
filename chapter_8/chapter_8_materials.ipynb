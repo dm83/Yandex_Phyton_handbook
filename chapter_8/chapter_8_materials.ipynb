{
 "cells": [
  {
   "cell_type": "code",
   "execution_count": 1,
   "id": "39d74cb8",
   "metadata": {},
   "outputs": [
    {
     "name": "stdout",
     "output_type": "stream",
     "text": [
      "text\n",
      "None\n"
     ]
    }
   ],
   "source": [
    "print(print('text'))"
   ]
  },
  {
   "cell_type": "code",
   "execution_count": 2,
   "id": "2896c883",
   "metadata": {},
   "outputs": [],
   "source": [
    "def only_even(numbers):\n",
    "    for i, x in enumerate(numbers):\n",
    "        if x % 2 != 0:\n",
    "            return False, i\n",
    "        return True\n",
    "    print(numbers)"
   ]
  },
  {
   "cell_type": "code",
   "execution_count": 5,
   "id": "1f286246",
   "metadata": {},
   "outputs": [
    {
     "ename": "NameError",
     "evalue": "name 'numbers' is not defined",
     "output_type": "error",
     "traceback": [
      "\u001b[1;31m---------------------------------------------------------------------------\u001b[0m",
      "\u001b[1;31mNameError\u001b[0m                                 Traceback (most recent call last)",
      "Cell \u001b[1;32mIn[5], line 1\u001b[0m\n\u001b[1;32m----> 1\u001b[0m only_even(numbers)\n",
      "\u001b[1;31mNameError\u001b[0m: name 'numbers' is not defined"
     ]
    }
   ],
   "source": [
    "only_even(numbers)"
   ]
  },
  {
   "cell_type": "code",
   "execution_count": 9,
   "id": "90f52338",
   "metadata": {},
   "outputs": [
    {
     "data": {
      "text/plain": [
       "[1, 2]"
      ]
     },
     "execution_count": 9,
     "metadata": {},
     "output_type": "execute_result"
    }
   ],
   "source": [
    "lst = [1, 2, 3]\n",
    "del lst[-1]\n",
    "lst"
   ]
  },
  {
   "cell_type": "code",
   "execution_count": 10,
   "id": "7170ef1a",
   "metadata": {},
   "outputs": [
    {
     "name": "stdout",
     "output_type": "stream",
     "text": [
      "Количество вызовов функции равно 1.\n",
      "Количество вызовов функции равно 2.\n",
      "Количество вызовов функции равно 3.\n"
     ]
    }
   ],
   "source": [
    "def inc():\n",
    "    global x\n",
    "    x += 1\n",
    "    print(f\"Количество вызовов функции равно {x}.\")\n",
    "\n",
    "x = 0\n",
    "inc()\n",
    "inc()\n",
    "inc()"
   ]
  },
  {
   "cell_type": "code",
   "execution_count": null,
   "id": "bf7a89cc",
   "metadata": {},
   "outputs": [],
   "source": []
  }
 ],
 "metadata": {
  "kernelspec": {
   "display_name": "base",
   "language": "python",
   "name": "python3"
  },
  "language_info": {
   "codemirror_mode": {
    "name": "ipython",
    "version": 3
   },
   "file_extension": ".py",
   "mimetype": "text/x-python",
   "name": "python",
   "nbconvert_exporter": "python",
   "pygments_lexer": "ipython3",
   "version": "3.12.4"
  }
 },
 "nbformat": 4,
 "nbformat_minor": 5
}
