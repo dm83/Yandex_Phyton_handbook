{
 "cells": [
  {
   "cell_type": "markdown",
   "id": "c5f0194a",
   "metadata": {},
   "source": [
    "#### Задача A: A+B+..."
   ]
  },
  {
   "cell_type": "code",
   "execution_count": null,
   "id": "71d1e407",
   "metadata": {},
   "outputs": [
    {
     "data": {
      "text/plain": [
       "'\\nРешение с сайта\\n'"
      ]
     },
     "execution_count": 1,
     "metadata": {},
     "output_type": "execute_result"
    }
   ],
   "source": [
    "\"\"\"\n",
    "Решение с сайта\n",
    "\"\"\"\n",
    "\n",
    "from sys import stdin\n",
    "\n",
    "summa = 0\n",
    "for item in stdin.read().split():\n",
    "    summa += int(item)\n",
    "\n",
    "print(summa)"
   ]
  },
  {
   "cell_type": "markdown",
   "id": "0e6c0728",
   "metadata": {},
   "source": [
    "#### Задача: B Средний рост "
   ]
  },
  {
   "cell_type": "code",
   "execution_count": null,
   "id": "dfeb2a6c",
   "metadata": {},
   "outputs": [],
   "source": []
  },
  {
   "cell_type": "markdown",
   "id": "bfa4e076",
   "metadata": {},
   "source": [
    "#### Задача "
   ]
  },
  {
   "cell_type": "markdown",
   "id": "cd56d502",
   "metadata": {},
   "source": [
    "#### Задача "
   ]
  },
  {
   "cell_type": "markdown",
   "id": "4baa7b4e",
   "metadata": {},
   "source": [
    "#### Задача "
   ]
  },
  {
   "cell_type": "markdown",
   "id": "91242acd",
   "metadata": {},
   "source": [
    "#### Задача "
   ]
  },
  {
   "cell_type": "markdown",
   "id": "b1fd29ba",
   "metadata": {},
   "source": [
    "#### Задача "
   ]
  },
  {
   "cell_type": "markdown",
   "id": "c0cee9da",
   "metadata": {},
   "source": [
    "#### Задача "
   ]
  },
  {
   "cell_type": "markdown",
   "id": "d873db4b",
   "metadata": {},
   "source": [
    "#### Задача "
   ]
  },
  {
   "cell_type": "markdown",
   "id": "35e97612",
   "metadata": {},
   "source": [
    "#### Задача "
   ]
  },
  {
   "cell_type": "markdown",
   "id": "5d9ef4e4",
   "metadata": {},
   "source": [
    "#### Задача "
   ]
  },
  {
   "cell_type": "markdown",
   "id": "673f6e18",
   "metadata": {},
   "source": [
    "#### Задача "
   ]
  },
  {
   "cell_type": "markdown",
   "id": "0f9e9a60",
   "metadata": {},
   "source": [
    "#### Задача "
   ]
  },
  {
   "cell_type": "markdown",
   "id": "941de5c7",
   "metadata": {},
   "source": [
    "#### Задача "
   ]
  },
  {
   "cell_type": "markdown",
   "id": "55b01f28",
   "metadata": {},
   "source": [
    "#### Задача "
   ]
  },
  {
   "cell_type": "markdown",
   "id": "6e29299e",
   "metadata": {},
   "source": [
    "#### Задача "
   ]
  },
  {
   "cell_type": "markdown",
   "id": "1fa2f2fd",
   "metadata": {},
   "source": [
    "#### Задача "
   ]
  },
  {
   "cell_type": "markdown",
   "id": "d4fd6ac7",
   "metadata": {},
   "source": [
    "#### Задача "
   ]
  },
  {
   "cell_type": "markdown",
   "id": "ea92ea81",
   "metadata": {},
   "source": []
  }
 ],
 "metadata": {
  "kernelspec": {
   "display_name": "base",
   "language": "python",
   "name": "python3"
  },
  "language_info": {
   "codemirror_mode": {
    "name": "ipython",
    "version": 3
   },
   "file_extension": ".py",
   "mimetype": "text/x-python",
   "name": "python",
   "nbconvert_exporter": "python",
   "pygments_lexer": "ipython3",
   "version": "3.12.4"
  }
 },
 "nbformat": 4,
 "nbformat_minor": 5
}
