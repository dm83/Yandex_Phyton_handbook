{
 "cells": [
  {
   "cell_type": "markdown",
   "id": "2567787e",
   "metadata": {},
   "source": [
    "#### Загрузка библиотеки"
   ]
  },
  {
   "cell_type": "code",
   "execution_count": 1,
   "id": "399c1618",
   "metadata": {},
   "outputs": [],
   "source": [
    "from sys import stdin"
   ]
  },
  {
   "cell_type": "code",
   "execution_count": 6,
   "id": "28f0aa0c",
   "metadata": {},
   "outputs": [
    {
     "name": "stdout",
     "output_type": "stream",
     "text": [
      "['Привет!\\n', 'Это пример текстового файла.\\n', 'А это — последняя строка, которая заканчивается переходом на новую.']\n"
     ]
    }
   ],
   "source": [
    "data = open('input_1.txt')\n",
    "lines = []\n",
    "for line in data:\n",
    "    lines.append(line)\n",
    "print(lines)"
   ]
  },
  {
   "cell_type": "code",
   "execution_count": 7,
   "id": "70b98e53",
   "metadata": {},
   "outputs": [
    {
     "name": "stdout",
     "output_type": "stream",
     "text": [
      "['Привет!', 'Это пример текстового файла.', 'А это — последняя строка, которая заканчивается переходом на новую.']\n"
     ]
    }
   ],
   "source": [
    "data = open('input_1.txt')\n",
    "lines = []\n",
    "for line in data:\n",
    "    lines.append(line.rstrip(\"\\n\"))\n",
    "print(lines)"
   ]
  },
  {
   "cell_type": "code",
   "execution_count": 8,
   "id": "b9aa83bc",
   "metadata": {},
   "outputs": [
    {
     "name": "stdout",
     "output_type": "stream",
     "text": [
      "['Привет!\\n', 'Это пример текстового файла.\\n', 'А это — последняя строка, которая заканчивается переходом на новую.']\n"
     ]
    }
   ],
   "source": [
    "data = open('input_1.txt')\n",
    "lines = data.readlines()\n",
    "\n",
    "print(lines)"
   ]
  },
  {
   "cell_type": "code",
   "execution_count": 13,
   "id": "51f4ca2e",
   "metadata": {},
   "outputs": [
    {
     "name": "stdout",
     "output_type": "stream",
     "text": [
      "Привет!\n",
      "Это пример текстового файла.\n",
      "А это — последняя строка, которая заканчивается переходом на новую.\n"
     ]
    }
   ],
   "source": [
    "data = open('input_1.txt', encoding='UTF-8')\n",
    "text = data.read()\n",
    "print(text)"
   ]
  },
  {
   "cell_type": "code",
   "execution_count": 14,
   "id": "d6e0926e",
   "metadata": {},
   "outputs": [
    {
     "name": "stdout",
     "output_type": "stream",
     "text": [
      "Привет!\n",
      "\n",
      "Это пример текстового файла.\n",
      "\n",
      "А это — последняя строка, которая заканчивается переходом на новую.\n"
     ]
    }
   ],
   "source": [
    "file_in = open('input_1.txt', encoding='UTF-8')\n",
    "for line in file_in:\n",
    "    print(line)\n",
    "file_in.close()"
   ]
  },
  {
   "cell_type": "code",
   "execution_count": 16,
   "id": "16bd8994",
   "metadata": {},
   "outputs": [
    {
     "name": "stdout",
     "output_type": "stream",
     "text": [
      "Привет!\n",
      "\n",
      "Это пример текстового файла.\n",
      "\n",
      "А это — последняя строка, которая заканчивается переходом на новую.\n"
     ]
    }
   ],
   "source": [
    "with open('input_1.txt', encoding='UTF-8') as file_in:\n",
    "    for line in file_in:\n",
    "        print(line)"
   ]
  },
  {
   "cell_type": "code",
   "execution_count": 17,
   "id": "62744abd",
   "metadata": {},
   "outputs": [
    {
     "name": "stdout",
     "output_type": "stream",
     "text": [
      "['Привет!\\n', 'Это пример текстового файла.\\n', 'А это — последняя строка, которая заканчивается переходом на новую.']\n"
     ]
    }
   ],
   "source": [
    "with open('input_1.txt', encoding='UTF-8') as file_in:\n",
    "    lines = file_in.readlines()\n",
    "print(lines)"
   ]
  },
  {
   "cell_type": "code",
   "execution_count": 23,
   "id": "d889da80",
   "metadata": {},
   "outputs": [
    {
     "name": "stdout",
     "output_type": "stream",
     "text": [
      "['Привет!\\nЭто пример т']\n"
     ]
    }
   ],
   "source": [
    "with open('input_1.txt') as file_in:\n",
    "    symbols = file_in.read(20)\n",
    "print([symbols])"
   ]
  },
  {
   "cell_type": "code",
   "execution_count": null,
   "id": "8b2cd278",
   "metadata": {},
   "outputs": [],
   "source": []
  }
 ],
 "metadata": {
  "kernelspec": {
   "display_name": "base",
   "language": "python",
   "name": "python3"
  },
  "language_info": {
   "codemirror_mode": {
    "name": "ipython",
    "version": 3
   },
   "file_extension": ".py",
   "mimetype": "text/x-python",
   "name": "python",
   "nbconvert_exporter": "python",
   "pygments_lexer": "ipython3",
   "version": "3.12.4"
  }
 },
 "nbformat": 4,
 "nbformat_minor": 5
}
