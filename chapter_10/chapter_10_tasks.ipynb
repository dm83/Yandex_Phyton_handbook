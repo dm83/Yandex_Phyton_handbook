{
 "cells": [
  {
   "cell_type": "markdown",
   "id": "004b4c49",
   "metadata": {},
   "source": [
    "### Задача A: Рекурсивный сумматор"
   ]
  },
  {
   "cell_type": "code",
   "execution_count": null,
   "id": "8159052a",
   "metadata": {
    "vscode": {
     "languageId": "plaintext"
    }
   },
   "outputs": [],
   "source": [
    "def recursive_sum()\n",
    "\n",
    "\n",
    "result = recursive_sum(1, 2, 3)"
   ]
  },
  {
   "cell_type": "markdown",
   "id": "5a9bbbf5",
   "metadata": {},
   "source": [
    "### Задача"
   ]
  },
  {
   "cell_type": "markdown",
   "id": "75ab0aec",
   "metadata": {},
   "source": [
    "### Задача"
   ]
  },
  {
   "cell_type": "markdown",
   "id": "ebdb7b20",
   "metadata": {},
   "source": [
    "### Задача"
   ]
  },
  {
   "cell_type": "markdown",
   "id": "c2519d5f",
   "metadata": {},
   "source": [
    "### Задача"
   ]
  },
  {
   "cell_type": "markdown",
   "id": "d2c387dc",
   "metadata": {},
   "source": [
    "### Задача"
   ]
  },
  {
   "cell_type": "markdown",
   "id": "1d0bd4c3",
   "metadata": {},
   "source": [
    "### Задача"
   ]
  },
  {
   "cell_type": "markdown",
   "id": "2c71b709",
   "metadata": {},
   "source": [
    "### Задача"
   ]
  },
  {
   "cell_type": "markdown",
   "id": "e8f78e89",
   "metadata": {},
   "source": [
    "### Задача"
   ]
  },
  {
   "cell_type": "markdown",
   "id": "157cff9d",
   "metadata": {},
   "source": [
    "### Задача"
   ]
  }
 ],
 "metadata": {
  "language_info": {
   "name": "python"
  }
 },
 "nbformat": 4,
 "nbformat_minor": 5
}
