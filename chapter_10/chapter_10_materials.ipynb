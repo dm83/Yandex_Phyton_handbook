{
 "cells": [
  {
   "cell_type": "markdown",
   "id": "87f46b24",
   "metadata": {},
   "source": [
    "### Рекурсия"
   ]
  },
  {
   "cell_type": "markdown",
   "id": "cd32934c",
   "metadata": {},
   "source": [
    "#### Факториал"
   ]
  },
  {
   "cell_type": "code",
   "execution_count": 17,
   "id": "43e87d3f",
   "metadata": {},
   "outputs": [
    {
     "data": {
      "text/plain": [
       "40320"
      ]
     },
     "execution_count": 17,
     "metadata": {},
     "output_type": "execute_result"
    }
   ],
   "source": [
    "def fact(n):\n",
    "    if n == 0:  # 0! = 1\n",
    "        return 1\n",
    "    return fact(n - 1) * n  # n! = (n - 1)! * n\n",
    "\n",
    "fact(8)"
   ]
  },
  {
   "cell_type": "markdown",
   "id": "a8f9eaeb",
   "metadata": {},
   "source": [
    "#### Сумма ряда от [1 ... n]"
   ]
  },
  {
   "cell_type": "code",
   "execution_count": 21,
   "id": "556df38c",
   "metadata": {},
   "outputs": [
    {
     "data": {
      "text/plain": [
       "210"
      ]
     },
     "execution_count": 21,
     "metadata": {},
     "output_type": "execute_result"
    }
   ],
   "source": [
    "def summ(n):\n",
    "    if n == 1:\n",
    "        return 1\n",
    "    else:\n",
    "        return summ(n - 1) + n\n",
    "\n",
    "summ(20)"
   ]
  },
  {
   "cell_type": "markdown",
   "id": "ce630f7e",
   "metadata": {},
   "source": [
    "Фибоначчи"
   ]
  },
  {
   "cell_type": "code",
   "execution_count": 30,
   "id": "aee44b38",
   "metadata": {},
   "outputs": [
    {
     "data": {
      "text/plain": [
       "21"
      ]
     },
     "execution_count": 30,
     "metadata": {},
     "output_type": "execute_result"
    }
   ],
   "source": [
    "def fib(n):\n",
    "    if n in (0, 1):\n",
    "        return 1\n",
    "    return fib(n - 1) + fib(n - 2)\n",
    "\n",
    "fib(7)"
   ]
  },
  {
   "cell_type": "markdown",
   "id": "86abaa76",
   "metadata": {},
   "source": [
    "Рекурсия с кэшированием"
   ]
  },
  {
   "cell_type": "code",
   "execution_count": 36,
   "id": "969a664e",
   "metadata": {},
   "outputs": [
    {
     "name": "stdout",
     "output_type": "stream",
     "text": [
      "{0: 1, 1: 1, 2: 2, 3: 3, 4: 5, 5: 8, 6: 13, 7: 21, 8: 34, 9: 55, 10: 89, 11: 144, 12: 233, 13: 377, 14: 610, 15: 987, 16: 1597, 17: 2584, 18: 4181, 19: 6765, 20: 10946, 21: 17711, 22: 28657, 23: 46368, 24: 75025, 25: 121393, 26: 196418, 27: 317811, 28: 514229, 29: 832040, 30: 1346269, 31: 2178309, 32: 3524578, 33: 5702887, 34: 9227465, 35: 14930352}\n",
      "69\n"
     ]
    }
   ],
   "source": [
    "def fib(n):\n",
    "    global count\n",
    "    count += 1\n",
    "    if n not in cache:\n",
    "        cache[n] = fib(n - 1) + fib(n - 2)\n",
    "    return cache[n]\n",
    "\n",
    "count = 0\n",
    "cache = {0: 1, 1: 1}\n",
    "\n",
    "fib(35)\n",
    "print(cache)\n",
    "print(count)"
   ]
  },
  {
   "cell_type": "markdown",
   "id": "6a95c786",
   "metadata": {},
   "source": [
    "Рекурсия с изменением максимальной глубины рекурсии"
   ]
  },
  {
   "cell_type": "code",
   "execution_count": null,
   "id": "d920699f",
   "metadata": {},
   "outputs": [
    {
     "data": {
      "text/plain": [
       "664390460366960072280217847866028384244163512452783259405579765542621214161219257396449810982999820391132226802809465132446349331994409434926019045342723749188530316994678473551320635101099619382973181622585687336939784373527897555489486841726131733814340129175622450421605101025897173235990662770203756438786517530547101123748849140252686120104032647025145598956675902135010566909783124959436469825558314289701354227151784602865710780624675107056569822820542846660321813838896275819753281371491809004412219124856375121694811728724213667814577326618521478357661859018967313354840178403197559969056510791709859144173304364898001"
      ]
     },
     "execution_count": 38,
     "metadata": {},
     "output_type": "execute_result"
    }
   ],
   "source": [
    "from sys import setrecursionlimit\n",
    "\n",
    "def fib(n):\n",
    "    if n not in cache:\n",
    "        cache[n] = fib(n - 1) + fib(n - 2)\n",
    "    return cache[n]\n",
    "\n",
    "\n",
    "setrecursionlimit(5000)\n",
    "cache = {0: 1, 1: 1}\n",
    "\n",
    "fib(3000)\n"
   ]
  },
  {
   "cell_type": "markdown",
   "id": "2368cc24",
   "metadata": {},
   "source": [
    "Рекурсия с интерпретатором"
   ]
  },
  {
   "cell_type": "code",
   "execution_count": 45,
   "id": "fd39fdf2",
   "metadata": {},
   "outputs": [
    {
     "data": {
      "text/plain": [
       "571829406815633979529643697006273045106845980748991112071673038743714031497887739023091610769764627307772654802298784361803421747114571265690519449915873452164193174293407940201977897716937097604164288130909"
      ]
     },
     "execution_count": 45,
     "metadata": {},
     "output_type": "execute_result"
    }
   ],
   "source": [
    "from functools import lru_cache\n",
    "\n",
    "@lru_cache(maxsize=1000)\n",
    "def fib(n):\n",
    "    if n in (0, 1):\n",
    "        return 1\n",
    "    else:\n",
    "        return fib(n - 1) + fib(n - 2)\n",
    "    \n",
    "fib(990)"
   ]
  },
  {
   "cell_type": "markdown",
   "id": "bfe0fe14",
   "metadata": {},
   "source": [
    "### Декораторы"
   ]
  },
  {
   "cell_type": "code",
   "execution_count": 46,
   "id": "bb82b635",
   "metadata": {},
   "outputs": [
    {
     "name": "stdout",
     "output_type": "stream",
     "text": [
      "<function func at 0x000001CE8E73D440>\n",
      "<function decorator.<locals>.new_func at 0x000001CE8E469580>\n"
     ]
    }
   ],
   "source": [
    "def func():\n",
    "    ...\n",
    "\n",
    "def decorator(old_func):\n",
    "    def new_func():\n",
    "        return old_func()\n",
    "      \n",
    "    return new_func\n",
    "  \n",
    "print(func)\n",
    "func = decorator(func)\n",
    "print(func)"
   ]
  },
  {
   "cell_type": "code",
   "execution_count": 48,
   "id": "41a3b042",
   "metadata": {},
   "outputs": [],
   "source": [
    "def decorator(old_func):\n",
    "    def new_func():\n",
    "        return old_func()\n",
    "      \n",
    "    return new_func\n",
    "\n",
    "@decorator\n",
    "def func():\n",
    "    ...\n"
   ]
  },
  {
   "cell_type": "markdown",
   "id": "a5131899",
   "metadata": {},
   "source": [
    "### Генераторы"
   ]
  },
  {
   "cell_type": "code",
   "execution_count": 49,
   "id": "104351b1",
   "metadata": {},
   "outputs": [
    {
     "name": "stdout",
     "output_type": "stream",
     "text": [
      "<generator object <genexpr> at 0x000001CE8E54DB10>\n"
     ]
    }
   ],
   "source": [
    "squares = (i ** 2 for i in range(10))\n",
    "print(squares)"
   ]
  },
  {
   "cell_type": "code",
   "execution_count": 50,
   "id": "cc942e38",
   "metadata": {},
   "outputs": [
    {
     "name": "stdout",
     "output_type": "stream",
     "text": [
      "[0, 1, 4, 9, 16, 25, 36, 49, 64, 81]\n"
     ]
    }
   ],
   "source": [
    "squares = [i ** 2 for i in range(10)]\n",
    "print(squares)"
   ]
  },
  {
   "cell_type": "code",
   "execution_count": 64,
   "id": "2c4fa7d0",
   "metadata": {},
   "outputs": [
    {
     "name": "stdout",
     "output_type": "stream",
     "text": [
      "1, 1, 2, 3, 5, 8, 13, 21, 34, 55, 89, 144, 233, 377, 610, 987, 1597, 2584, 4181, 6765, 10946, 17711, 28657, 46368, 75025, 121393, 196418, 317811, 514229, 832040, 1346269, 2178309, 3524578, 5702887, 9227465\n"
     ]
    }
   ],
   "source": [
    "def fib(n):\n",
    "    n_1, n_2 = 1, 1\n",
    "    for i in range(n):\n",
    "        yield n_1\n",
    "        n_1, n_2 = n_2, n_1 + n_2\n",
    "\n",
    "print(\", \".join(str(x) for x in fib(35)))"
   ]
  },
  {
   "cell_type": "code",
   "execution_count": null,
   "id": "5dd0fac8",
   "metadata": {},
   "outputs": [],
   "source": []
  }
 ],
 "metadata": {
  "kernelspec": {
   "display_name": "base",
   "language": "python",
   "name": "python3"
  },
  "language_info": {
   "codemirror_mode": {
    "name": "ipython",
    "version": 3
   },
   "file_extension": ".py",
   "mimetype": "text/x-python",
   "name": "python",
   "nbconvert_exporter": "python",
   "pygments_lexer": "ipython3",
   "version": "3.12.4"
  }
 },
 "nbformat": 4,
 "nbformat_minor": 5
}
